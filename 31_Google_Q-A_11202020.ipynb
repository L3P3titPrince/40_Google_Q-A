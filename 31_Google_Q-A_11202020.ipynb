{
 "cells": [
  {
   "cell_type": "markdown",
   "metadata": {},
   "source": [
    "# <a id=\"1.Summary\"> 1.Summary</a>"
   ]
  },
  {
   "cell_type": "markdown",
   "metadata": {},
   "source": [
    "- https://www.kaggle.com/c/google-quest-challenge\n",
    "- BERT https://zhuanlan.zhihu.com/p/269516862"
   ]
  },
  {
   "cell_type": "markdown",
   "metadata": {},
   "source": [
    "- 1.EDA\n",
    "- 2.Preprocess data\n",
    "- 3.Classify\n",
    "- 4."
   ]
  },
  {
   "cell_type": "markdown",
   "metadata": {},
   "source": [
    "Typically, we have a Q&A dataset and there are 30+ columns `[0,1]` data coming from human evaluation."
   ]
  },
  {
   "cell_type": "markdown",
   "metadata": {},
   "source": [
    "# <a id=\"2.Table of Contents\">2.Tabole of Contents</a>\n",
    "<a href=\"#1.Summary\">Click this Link back to Top</a>"
   ]
  },
  {
   "cell_type": "markdown",
   "metadata": {},
   "source": [
    "\n",
    "\n",
    "\n",
    "<ol>\n",
    "    <li><a href=\"#1.Summary\">Summary</a></li>\n",
    "    <li><a href=\"#2.Tabole of Contents\">Tabole of Contents</a></li>\n",
    "    <li><a href=\"#3.Preprocess\">Preprocess</a>\n",
    "    <ul>\n",
    "        <li><a href=\"#3.1 Hyperparameter\">3.1 Hyperparameter</a></li>\n",
    "        <li><a href=\"#3.2 Import Data\">3.1 Import Data</a></li>\n",
    "        <li><a href=\"#3.3 Clean Data\">3.2 Clean Data</a></li> \n",
    "        <li><a href=\"#3.4 Tokenize\">3.3 Tokenize</a></li> \n",
    "        <li><a href=\"#3.5 Label Processing\">3.4 Label Processing</a></li>  \n",
    "        <li><a href=\"#3.6 EDA\">3.5 EDA</a></li>  \n",
    "    </ul>\n",
    "    </li>\n",
    "    <li><a href=\"#4.Word2Vect\">Embedding</a>\n",
    "    <ul>\n",
    "        <del><a href=\"#TFIDF\">4.1 TFIDF</a></del>\n",
    "        <li><a href=\"#Embedding\">4.2 Embedding</a></li>\n",
    "        <li><a href=\"#Glove Vector\">4.3 Glove Vector</a></li>\n",
    "        <li><a href=\"#BERT Vector\">4.4 BERT Vector</a></li>  \n",
    "    </ul>\n",
    "    </li>\n",
    "    <li><a href=\"#5.Classify\">Classify</a></li>\n",
    "    <li><a href=\"#6.Models\">Models</a>\n",
    "    <ul>\n",
    "        <li><a href=\"#8.1 NN\">8.3 NN</a></li>\n",
    "        <li><a href=\"#8.3 LSTM\">8.3 LSTM</a></li>\n",
    "        <li><a href=\"#8.4 BERT\">8.4 BERT</a></li>\n",
    "        <li><a href=\"#8.5 Seq2Seq\">8.5 Seq2Seq</a></li>\n",
    "    </ul>\n",
    "    </li>\n",
    "    <li><a href=\"#7.Main Function\">Main Function</a></li>\n",
    "    <li><a href=\"#8.Analysis\">Main Function</a></li>\n",
    "    <li><a href=\"#10.Test Code\">Unused Code</a></li>\n",
    "</ol>\n",
    "\n",
    "\n"
   ]
  },
  {
   "cell_type": "markdown",
   "metadata": {},
   "source": [
    "<br>"
   ]
  },
  {
   "cell_type": "code",
   "execution_count": 49,
   "metadata": {},
   "outputs": [],
   "source": [
    "# most of data we will store in \n",
    "import pandas as pd\n",
    "import numpy as np\n",
    "\n",
    "# use regex to extract text\n",
    "import re\n",
    "# using copy to duplicate\n",
    "import copy\n",
    "# corpus will be string format\n",
    "import string\n",
    "# make picture\n",
    "import matplotlib.pyplot as plt\n",
    "# draw picture\n",
    "import seaborn as sns\n",
    "\n",
    "# the easiest way to get text is using bs4 to get only text\n",
    "from bs4 import BeautifulSoup\n",
    "#cacualte spearmen correcltion \n",
    "from scipy import stats\n",
    "# diplay image for demonstration\n",
    "from IPython.display import Image\n",
    "\n",
    "\n",
    "\n",
    "# one of tokenize method\n",
    "from sklearn.feature_extraction.text import TfidfVectorizer\n",
    "# split data with random seed (37)\n",
    "from sklearn.model_selection import train_test_split\n",
    "\n",
    "# at EDA get Tokenizer info for deciding hyperparameters\n",
    "from tensorflow.keras.preprocessing.text import Tokenizer\n",
    "# add padding to a tokenized sequence\n",
    "from tensorflow.keras.preprocessing.sequence import pad_sequences\n",
    "# input all the layers we might use \n",
    "from tensorflow.keras.layers import (Embedding, Dense, Conv1D, MaxPooling1D,\n",
    "Dropout, Activation, Input, Flatten, Concatenate, LSTM, GlobalAveragePooling1D)\n",
    "# do not use sequential to build model\n",
    "from tensorflow.keras import Model\n",
    "# need specify lr in optiizer\n",
    "from tensorflow.keras import optimizers\n",
    "# use categorical to transform to one-hot coding\n",
    "from tensorflow.keras.utils import to_categorical\n",
    "\n",
    "import tensorflow as tf"
   ]
  },
  {
   "cell_type": "markdown",
   "metadata": {},
   "source": [
    "<br>"
   ]
  },
  {
   "cell_type": "markdown",
   "metadata": {},
   "source": [
    "# <a id=\"3.Preprocess\">3.Preprocess</a>\n",
    "<a href=\"#2.Table of Contents\">Click this Link back to Top</a>"
   ]
  },
  {
   "cell_type": "markdown",
   "metadata": {},
   "source": [
    "The list of 30 target labels are the same as the column names in the sample_submission.csv file. Target labels with the prefix <code>question_</code> relate to the <code>question_title</code> and/or <code>question_body</code> features in the data. Target labels with the prefix <code>answer_</code> relate to the <code>answer</code> feature."
   ]
  },
  {
   "cell_type": "markdown",
   "metadata": {},
   "source": [
    "### <a id=\"3.1 Hyperparameter\">3.1 Hyperparameter</a>\n",
    "<a href=\"#2.Table of Contents\">Click this Link back to Top</a>"
   ]
  },
  {
   "cell_type": "code",
   "execution_count": 2,
   "metadata": {},
   "outputs": [],
   "source": [
    "class HyperParameters(object):\n",
    "    \"\"\"\n",
    "    This class will be used to transmit hypereparametes between class.\n",
    "    Most of class will inherit this class and hyerparameters.\n",
    "    If this class want to change personal hyperparameters, it can modify in __init__()\n",
    "    Most of value of hyperparamters come from EDA part. Others defined by human\n",
    "    \"\"\"\n",
    "    def __init__(self):\n",
    "        \"\"\"\n",
    "        It can be designed to accept arguments from outside in main() function\n",
    "        Also, you can modify hyperparameters just in here\n",
    "        \"\"\"\n",
    "        # max length of sentence, question/answer sequence have different max length\n",
    "        self.MAX_Q_SEQ_LEN = 400\n",
    "        self.MAX_A_SEQ_LEN = 1000\n",
    "\n",
    "        # how many words you want to reserve.\n",
    "        # Because some words appear less than 5 times in whole corpus\n",
    "        # so sometimes we think they can not transfrom useful infomation\n",
    "        # if we remain all of word in question and answer, the max word number in tokenize is 72070\n",
    "        # acoording to tf official document, this\n",
    "        self.MAX_WORD = 70000\n",
    "\n",
    "        # the vector dimesnsion for Embedding(). This can influence running speed\n",
    "        # higher dimensin will take more time than lower dimesnions\n",
    "        self.EMBEDDING_DIM = 50\n",
    "\n",
    "        # If we choose six column in class_35_label, we will assign unit = 6\n",
    "        self.Q_OUTPUT_UNIT = 6\n",
    "        self.A_OUTPUT_UNIT = 3\n",
    "\n",
    "        # reading GLOVE PATH\n",
    "        self.PATH = r\"D:\\Downloads\\glove.6B\\glove.6B.50d.txt\"\n"
   ]
  },
  {
   "cell_type": "code",
   "execution_count": 3,
   "metadata": {},
   "outputs": [],
   "source": [
    "\n",
    "# class GloveVect(HyperParameters):\n",
    "#     def __init__(self):\n",
    "#         \"\"\"\n",
    "#         All the hyperparameters need initialize in this section\n",
    "#         \"\"\"\n",
    "#         HyperParameters.__init__(self)\n",
    "        \n",
    "#     def test(self):x\n",
    "#         print(self.PATH)"
   ]
  },
  {
   "cell_type": "code",
   "execution_count": 4,
   "metadata": {},
   "outputs": [],
   "source": [
    "# embed_class = MultiEmbedding()\n",
    "# embed_class.EMBEDDING_DIM"
   ]
  },
  {
   "cell_type": "code",
   "execution_count": 5,
   "metadata": {},
   "outputs": [],
   "source": [
    "# glove_class = GloveVect()\n",
    "# glove_class.test()"
   ]
  },
  {
   "cell_type": "code",
   "execution_count": 6,
   "metadata": {},
   "outputs": [],
   "source": [
    "# # hpyer_class = HyperParameters(400, 1000, 70000, 50)\n",
    "# class test(HyperParameters):\n",
    "# #     def __init__(self):\n",
    "# #         super(test, self).__init__(400, 1000, 70000, 70)\n",
    "# #         super(test, self).__init__(MAX_Q_SEQ_LEN, MAX_A_SEQ_LEN, MAX_WORD, EMBEDDING_DIM)\n",
    "        \n",
    "#     def test_print(self):\n",
    "#         print(self.EMBEDDING_DIM)\n",
    "        \n",
    "        \n",
    "# test_class = test()\n",
    "# test_class.test_print()"
   ]
  },
  {
   "cell_type": "markdown",
   "metadata": {},
   "source": [
    "<br>"
   ]
  },
  {
   "cell_type": "markdown",
   "metadata": {},
   "source": [
    "<br>"
   ]
  },
  {
   "cell_type": "markdown",
   "metadata": {},
   "source": [
    "### <a id=\"3.2 Import Data\">3.2 Import Data</a>\n",
    "<a href=\"#2.Table of Contents\">Click this Link back to Top</a>"
   ]
  },
  {
   "cell_type": "code",
   "execution_count": 7,
   "metadata": {},
   "outputs": [],
   "source": [
    "import pandas as pd\n",
    "# measure running time\n",
    "from time import time\n",
    "\n",
    "class ImportData(object):\n",
    "    \"\"\"\n",
    "    Because this data have two components, so we first preprocess it and then return raw and corpus to do EDA\n",
    "    We also need to use preprocee to estimate hyperparameters\n",
    "    \"\"\"\n",
    "\n",
    "    def __init__(self):\n",
    "        pass\n",
    "\n",
    "    def import_data(self, path):\n",
    "        \"\"\"\n",
    "        Arugs:\n",
    "        ------\n",
    "        path:string\n",
    "            directory of file you want to read\n",
    "\n",
    "        Return:\n",
    "        ------\n",
    "\n",
    "\n",
    "        \"\"\"\n",
    "        print(\"*\" * 50, \"Start import data\", \"*\" * 50)\n",
    "        start_time = time()\n",
    "        # read the raw unpreprocess data into df_raw\n",
    "        df_raw = pd.read_csv(path)\n",
    "        # first we need extract the X(data) part and y(label) part.\n",
    "        # In this dataset, columns from \"qa_id\" to \"host\" will be X(data)\n",
    "        # columns from \"question_asker_intent_understanding\" to \"answer_will_written\"\n",
    "        # are human label result which are numerical results betwenn [0,1]\n",
    "        X_df = df_raw.iloc[:, 0:10]\n",
    "        y_df = df_raw.iloc[:, 11:]\n",
    "\n",
    "        # we classify question_title and question_body in X_question_df, question_ related columns into y_question_df,\n",
    "        # this is X y for one task\n",
    "        # we classify answer in X_answer, answer_ related column into y_answer_df. This is X and y for another task\n",
    "        # maybe we need sometime consider questoin and answer together\n",
    "        # i believe user info have no contribution with this task\n",
    "        # construct DataFrame\n",
    "        self.X_question_df = df_raw.loc[:, ['qa_id', 'question_title', 'question_body', 'category', 'host']]\n",
    "        self.X_answer_df = df_raw.loc[:, ['qa_id', 'answer', 'category', 'host']]\n",
    "\n",
    "        # initial label list\n",
    "        y_question_list = []\n",
    "        y_answer_list = []\n",
    "        for idx, i in enumerate(y_df.columns):\n",
    "            # if columns string contain \"question_\" then we categorize this into question label\n",
    "            if \"question_\" in i:\n",
    "                y_question_list.append(i)\n",
    "            elif \"answer_\" in i:\n",
    "                y_answer_list.append(i)\n",
    "            else:\n",
    "                continue\n",
    "\n",
    "        # ues list extract label of question\n",
    "        self.y_question_df = df_raw[y_question_list]\n",
    "        self.y_answer_df = df_raw[y_answer_list]\n",
    "        # So, for now, we have two pair of dataset,\n",
    "        # firt is (X_question_df + y_question_df). Second is (X_answer_df + y_answer_df)\n",
    "\n",
    "        # for question part, i think we need a new column for merge title and body, but we still reserve seperate column\n",
    "        self.X_question_df['question'] = self.X_question_df['question_title'] + self.X_question_df['question_body']\n",
    "\n",
    "        cost_time = round((time() - start_time), 4)\n",
    "        print(\"*\" * 40, \"End import_data() with {} second\".format(cost_time), \"*\" * 40, end='\\n\\n')\n",
    "\n",
    "        return df_raw, self.X_question_df, self.X_answer_df, self.y_question_df, self.y_answer_df"
   ]
  },
  {
   "cell_type": "code",
   "execution_count": 8,
   "metadata": {},
   "outputs": [],
   "source": [
    "# import_class = ImportData()\n",
    "# (df_train_raw, X_q_train_df, X_a_train_df, y_q_train_df,\n",
    "#  y_a_train_df) = import_class.import_data(\"03_data/02_train.csv\")\n",
    "# df_test_raw, X_q_test_df, X_a_test_df, y_q_test_df, y_a_test_df = import_class.import_data(\"03_data/03_test.csv\")\n",
    "\n",
    "# df_train_raw.shape\n",
    "\n",
    "# X_a_train_df.columns\n",
    "\n",
    "# y_a_train_df.shape"
   ]
  },
  {
   "cell_type": "markdown",
   "metadata": {},
   "source": [
    "<br>"
   ]
  },
  {
   "cell_type": "markdown",
   "metadata": {},
   "source": [
    "<br>"
   ]
  },
  {
   "cell_type": "markdown",
   "metadata": {},
   "source": [
    "<br>"
   ]
  },
  {
   "cell_type": "markdown",
   "metadata": {},
   "source": [
    "### <a id=\"3.3 Clean Data\">3.3 Clean Data</a>\n",
    "<a href=\"#2.Table of Contents\">Click this Link back to Top</a>"
   ]
  },
  {
   "cell_type": "code",
   "execution_count": 9,
   "metadata": {},
   "outputs": [],
   "source": [
    "import pandas as pd\n",
    "import numpy as np\n",
    "\n",
    "# use regex to extract text\n",
    "import re\n",
    "# using copy to duplicate\n",
    "import copy\n",
    "# recording each step runing time\n",
    "from time import time\n",
    "# corpus will be string format\n",
    "import string\n",
    "# the easiest way to get text is using bs4 to get only text\n",
    "from bs4 import BeautifulSoup\n",
    "# get process bar\n",
    "from tqdm import tqdm\n",
    "\n",
    "class CleanData(object):\n",
    "    def __init__(self):\n",
    "        \"\"\"\n",
    "        \"\"\"\n",
    "        pass\n",
    "\n",
    "    def clean_process(self, df, column_1, punctuation_fun=True, stopwords_fun=False):\n",
    "        \"\"\"\n",
    "        I have reserve several interface and options to response different scenarios\n",
    "\n",
    "        steps\n",
    "        1.lowercase()\n",
    "        2.remove special puncuation and symbol\n",
    "        4.remove string puncuation\n",
    "        5.only reserve words\n",
    "        6.remove stop words(if we eliminate most frequcen word, do we still this?\n",
    "        and did this affect LSTM?) so i put a switch\n",
    "\n",
    "        Argus:\n",
    "        -----\n",
    "        df:DataFrame\n",
    "            Input come from import_data() [column_1] is the columns that need corpus,\n",
    "        column_1:string\n",
    "            the name of column we need clean\n",
    "        stopwrods_fun:boolen\n",
    "            True, remove stopwords; False, do not remove stopwords\n",
    "\n",
    "\n",
    "        Return:\n",
    "        ------\n",
    "        courpus_df:DataFrame\n",
    "            Because we use apply(lambda) to process each cell in DataFrame, so output is still that DataFrame\n",
    "        \"\"\"\n",
    "        print(\"*\" * 50, \"Start Clean data\", \"*\" * 50)\n",
    "        start_time = time()\n",
    "        # original datatype is serise, first transfrom to string and get lower() case text\n",
    "        corpus = df[column_1].str.lower()\n",
    "\n",
    "        # Because we don't have html characters,we don't need this part\n",
    "        # using bs4 to eliminate html\n",
    "        # soup = BeautifulSoup(corpus_2, 'lxml')\n",
    "        # corpus_3 = soup.get_text()\n",
    "        corpus = corpus.apply(lambda x: self.remove_html(x))\n",
    "        # any speical punctuation in filter sring should add \"\\\" before it\n",
    "        # This line is a compensation for remove_pun, if we puncturation_fun==False, which means we want to reserve some meanningfol\n",
    "        # symbols, we can use this seperate function to remove those meaningless symbols\n",
    "        corpus = corpus.apply(lambda x: self.remove_regex(x))\n",
    "\n",
    "        # if punctuation_fun == True, we remove punctuation.\n",
    "        # In this step, further we maybe need seperate them to keep question mark for represent some meaning\n",
    "        if punctuation_fun:\n",
    "            # use sring.puncutation to eliminate, but we should first remove url. I believe this should be last step\n",
    "            corpus = corpus.apply(lambda x: self.remove_pun(x))\n",
    "\n",
    "        # this is last safeguard for clean_data process. This function literally only extract\n",
    "        # only reserve words\n",
    "        pattern = r'[a-zA-Z][-._a-zA-Z]*[a-zA-Z]'\n",
    "        corpus = [\" \".join(re.findall(pattern, x)) for x in corpus]\n",
    "\n",
    "        if stopwords_fun:\n",
    "            # remove stop words\n",
    "            corpus_list = []\n",
    "            for sentence in tqdm(corpus_6):\n",
    "                corpus_list.append(self.remove_stopwords(sentence))\n",
    "            #         corpus_7 = corpus_6.apply(lambda x: remove_stopwords(x))\n",
    "            #         corpus_7 = [remove_stopwords(x) for x in corpus_6]\n",
    "            corpus = np.array(corpus_list)\n",
    "\n",
    "        #         # ********************improve strategy*****************************\n",
    "        #         # due to this is very small, perhaps add stem and lemmanization will be better\n",
    "        #         # According to Pro Liu, this step is not necessary\n",
    "        #         # ********************improve strategy*****************************\n",
    "\n",
    "        # we sitll need to manipulate with index because it contain important relationship between corpus and claasify\n",
    "        # list to pd.Series\n",
    "        #         corpus_8 = pd.Series(np.array(corpus))\n",
    "        df['cleaned'] = pd.Series(np.array(corpus))\n",
    "\n",
    "        cost_time = round((time() - start_time), 4)\n",
    "        print(\"*\" * 40, \"End clean_data() with {} second\".format(cost_time), \"*\" * 40, end='\\n\\n')\n",
    "\n",
    "        return df\n",
    "\n",
    "    def remove_pun(self, text):\n",
    "        \"\"\"\n",
    "        The reason i use seperate function is that pandas.apply can manipulate with column value.\n",
    "        If we use loop directly, we will get a join corpus without paragraph structure\n",
    "        \"\"\"\n",
    "        no_pun = \"\".join([c for c in text if c not in string.punctuation])\n",
    "        return no_pun\n",
    "\n",
    "    def remove_html(self, text):\n",
    "        \"\"\"\n",
    "        Use bs4 to extract text\n",
    "        \"\"\"\n",
    "        soup = BeautifulSoup(text, 'lxml')\n",
    "        no_html = soup.get_text()\n",
    "        return no_html\n",
    "\n",
    "    def remove_regex(self, text):\n",
    "        \"\"\"\n",
    "        It was designed to remove special punctuation and character which we can't manipulate with string.puncutation effectively\n",
    "        #             #!\"#$%&()*\\+,-./:;<=>\\?@\\[\\\\\\]^_`{|}~\\\\t\\\\n\\\\r\\“\n",
    "        \"\"\"\n",
    "        # remove url\n",
    "        no_reg = re.sub(r'^https?:\\/\\/.*[\\r\\n]*', '', text)\n",
    "        # remove numbers\n",
    "        no_reg = re.sub('\\w*\\d\\w*', '', no_reg)\n",
    "        return no_reg\n",
    "\n",
    "    def remove_stopwords(self, sentence):\n",
    "        stop_words_set = set(stopwords.words(\"english\"))\n",
    "        no_stopwords = \" \".join([word for word in sentence.split(\" \") if not word in stop_words_set])\n",
    "        #     for word in text:\n",
    "        #         if word not in stopwords.words(\"english\"):\n",
    "        #             output = output + \" \" + word\n",
    "        return no_stopwords"
   ]
  },
  {
   "cell_type": "markdown",
   "metadata": {},
   "source": [
    "<br>"
   ]
  },
  {
   "cell_type": "markdown",
   "metadata": {},
   "source": [
    "### <a id=\"3.4 Tokenize\">3.4 Tokenize</a>\n",
    "<a href=\"#2.Table of Contents\">Click this Link back to Top</a>"
   ]
  },
  {
   "cell_type": "code",
   "execution_count": 10,
   "metadata": {},
   "outputs": [],
   "source": [
    "# most of data we will store in\n",
    "import pandas as pd\n",
    "import numpy as np\n",
    "\n",
    "# use regex to extract text\n",
    "import re\n",
    "# using copy to duplicate\n",
    "import copy\n",
    "# corpus will be string format\n",
    "import string\n",
    "# the easiest way to get text is using bs4 to get only text\n",
    "from bs4 import BeautifulSoup\n",
    "#cacualte spearmen correcltion\n",
    "from scipy import stats\n",
    "# make picture\n",
    "import matplotlib.pyplot as plt\n",
    "# draw picture\n",
    "import seaborn as sns\n",
    "\n",
    "\n",
    "# at EDA get Tokenizer info for deciding hyperparameters\n",
    "from tensorflow.keras.preprocessing.text import Tokenizer\n",
    "# add padding to a tokenized sequence\n",
    "from tensorflow.keras.preprocessing.sequence import pad_sequences\n",
    "\n",
    "\n",
    "\n",
    "# one of tokenize method\n",
    "from sklearn.feature_extraction.text import TfidfVectorizer\n",
    "# split data with random seed (37)\n",
    "from sklearn.model_selection import train_test_split\n",
    "\n",
    "# at EDA get Tokenizer info for deciding hyperparameters\n",
    "from tensorflow.keras.preprocessing.text import Tokenizer\n",
    "# add padding to a tokenized sequence\n",
    "from tensorflow.keras.preprocessing.sequence import pad_sequences\n",
    "\n",
    "from class_31_hyperparameters import HyperParameters\n",
    "\n",
    "class TokenizeData(HyperParameters):\n",
    "    \"\"\"\n",
    "    Tokenize is only split sent\n",
    "    \"\"\"\n",
    "\n",
    "    def __init__(self):\n",
    "        HyperParameters.__init__(self)\n",
    "    #     \"\"\"\n",
    "    #     \"\"\"\n",
    "    #     # using distribution to decide this parameters\n",
    "    #     self.MAX_Q_SEQ_LEN = 400\n",
    "    #     self.MAX_A_SEQ_LEN = 1000\n",
    "\n",
    "    def tokenize_plot(self, question_cleaned_df, answer_cleaned_df):\n",
    "        \"\"\"\n",
    "        decide how many words should be left for tokenzie() function\n",
    "\n",
    "        Argus:\n",
    "        -----\n",
    "        question_cleaned_df\n",
    "        \"\"\"\n",
    "        # do not set num_words at first time and to see how many unique words we have\n",
    "        tokenizer_model = Tokenizer(split=' ', char_level=False, oov_token=\"<OOV>\")\n",
    "        # here is another trick, we need consider question and answer courpus into one unit\n",
    "        # so we build a new big combination corpus,\n",
    "        corpus_sum = question_cleaned_df['cleaned'] + answer_cleaned_df['cleaned']\n",
    "        # use previous model to fit this large combination corpus\n",
    "        tokenizer_model.fit_on_texts(corpus_sum)\n",
    "        # get the word_index and word_count dictionary\n",
    "        # word_index is the number corresponding to words by frequence. word_count is the sepcific words appeart times frequency\n",
    "        word_index, word_count = tokenizer_model.word_index, tokenizer_model.word_counts\n",
    "        print(f\"we got unique {len(word_index)} words\")\n",
    "        MAX_WORD = 0\n",
    "        for i in word_count.values():\n",
    "            if i > 5:\n",
    "                MAX_WORD += 1\n",
    "        print(f\"we have {MAX_WORD} words appear more than 5 times\")\n",
    "\n",
    "        # **************new tokenize process******************\n",
    "        # due to bad performance, i remain all sentence and all word in this small dataset\n",
    "        # MAX_WORD = 72070\n",
    "        # start a new standard processs from begining\n",
    "        tokenizer_new = Tokenizer(num_words=self.MAX_WORD, split=' ', char_level=False, oov_token=\"<OOV>\")\n",
    "        # fit on combination corpus(question+answer). We can't just use one component to build tokenizer\n",
    "        tokenizer_new.fit_on_texts(corpus_sum)\n",
    "        # get new word_index and index_word. we use index_word(index:word) to restore orignial sentence by numerical sequence\n",
    "        self.word_index, self.index_word = tokenizer_new.word_index, tokenizer_new.index_word\n",
    "        # get question of sequence\n",
    "        question_seq = tokenizer_new.texts_to_sequences(question_cleaned_df['cleaned'])\n",
    "        # get sequence of answer\n",
    "        answer_seq = tokenizer_new.texts_to_sequences(answer_cleaned_df['cleaned'])\n",
    "        # get padded\n",
    "        self.question_padded = pad_sequences(question_seq, padding='post', maxlen=self.MAX_Q_SEQ_LEN, truncating='post')\n",
    "        # using padded\n",
    "        self.answer_padded = pad_sequences(answer_seq, padding='post', maxlen=self.MAX_A_SEQ_LEN, truncating='post')\n",
    "        # **************new tokenize process******************\n",
    "        question_cleaned_df['padded'] = list(self.question_padded)\n",
    "\n",
    "        return self.question_padded, question_cleaned_df, self.answer_padded, self.word_index, self.index_word\n",
    "\n",
    "    def sequence_to_text(self):\n",
    "        \"\"\"\n",
    "        Use this function to convert padded sequnce back to text according to word_index\n",
    "        \"\"\"\n",
    "        # create a empty list\n",
    "        word_list = []\n",
    "        for idx, i in enumerate(self.question_padded):\n",
    "            # for every word in self.question_padded[0]=sentence, put it into a list\n",
    "            words = np.array([self.index_word.get(word) for word in i])\n",
    "            # insert into list\n",
    "            word_list.append(words)\n",
    "        # create a dictionary to build DataFrame\n",
    "        dic = {\"sequence_to_text\": word_list}\n",
    "        word_df = pd.DataFrame(dic)\n",
    "        return word_df\n"
   ]
  },
  {
   "cell_type": "code",
   "execution_count": 11,
   "metadata": {},
   "outputs": [],
   "source": [
    "# token_class = TokenizeData()\n",
    "# a, b = token_class.tokenize_plot( y_q_train_df, y_a_train_df)"
   ]
  },
  {
   "cell_type": "markdown",
   "metadata": {},
   "source": [
    "<br>"
   ]
  },
  {
   "cell_type": "markdown",
   "metadata": {},
   "source": [
    "<br>"
   ]
  },
  {
   "cell_type": "markdown",
   "metadata": {},
   "source": [
    "<br>"
   ]
  },
  {
   "cell_type": "markdown",
   "metadata": {},
   "source": [
    "### <a id=\"3.5 Label Processing\">3.5 Label Processing</a>\n",
    "<a href=\"#2.Table of Contents\">Click this Link back to Top</a>"
   ]
  },
  {
   "cell_type": "markdown",
   "metadata": {},
   "source": [
    "According to my experimental process. If we just use numerical result to get spearman score, the result is not significance. Although we can get a not that bad score, but the result is not much intuitive. So, afther eda the label numericla, we find it not continuous, its a set of discrete numbers. We can segement lablel result into 10 part and transfer it into a classification proble. rather than using numerical result to predict contiunous label."
   ]
  },
  {
   "cell_type": "code",
   "execution_count": 12,
   "metadata": {},
   "outputs": [],
   "source": [
    "import numpy as np\n",
    "# use categorical to transform to one-hot coding\n",
    "from tensorflow.keras.utils import to_categorical\n",
    "\n",
    "\n",
    "\n",
    "class LabelProcess(object):\n",
    "    \"\"\"\n",
    "    Originally, we use tartget numerial as our label, which are\n",
    "    \"\"\"\n",
    "\n",
    "    def __init__(self, y_question_df, y_answer_df):\n",
    "        self.y_question_df = y_question_df\n",
    "        self.y_answer_df = y_answer_df\n",
    "\n",
    "    def num_label(self):\n",
    "        \"\"\"\n",
    "        In future, i will use arguritem to filter column. For now, i do it manually\n",
    "        As i test use pure numerical algorithem to calcualte\n",
    "\n",
    "        For labels of question, we ignore the following parts\n",
    "        since the results of these labels are almost coming to one category (1 or 0).\n",
    "        For examples:\n",
    "        question_conversational\n",
    "        question_not_really_a_question\n",
    "        question_tpye_compare\n",
    "\n",
    "        They all have obviously meanings so that they will have inefficient evaluation about questions.\n",
    "        Therefore, we are looking forward to finding some labels which have more balanced results.\n",
    "        We choose several labels as follows.\n",
    "\n",
    "        question_asker_intent_understanding:\n",
    "        This label represents the level that people can understand the questions’intent.\n",
    "\n",
    "        question_expect_short_answer:\n",
    "        This label represents the level that people expect the short answers.\n",
    "\n",
    "        question_has_commonly_accepted_answer:\n",
    "        This label represents the level that the question has a commonly accepted answer.\n",
    "\n",
    "        question_interestingness_others:\n",
    "        This label represents the interestingness of people expect asker.\n",
    "\n",
    "        question_interestingness_self:\n",
    "        This label represents the interestingness of asker himself or herself.\n",
    "\n",
    "        question_well_written:\n",
    "        This label represents the level that the question can be well written.\n",
    "\n",
    "        Not used 'question_body_critical'\n",
    "\n",
    "        \"\"\"\n",
    "        # first try these labels, these labels are distribute average and easy for interpretation\n",
    "        self.q_feature_col = ['question_asker_intent_understanding',\n",
    "                         'question_expect_short_answer',\n",
    "                         'question_has_commonly_accepted_answer',\n",
    "                         'question_interestingness_others',\n",
    "                         'question_interestingness_self',\n",
    "                         'question_well_written'\n",
    "                         ]\n",
    "        # extract the dataframe of these columns\n",
    "        y_q_label_df = self.y_question_df[self.q_feature_col]\n",
    "\n",
    "        # extract the answer label features\n",
    "        self.a_feature_col = ['answer_type_instructions',\n",
    "                         'answer_satisfaction',\n",
    "                         'answer_type_reason_explanation'\n",
    "                         ]\n",
    "        y_a_label_df = self.y_answer_df[self.a_feature_col]\n",
    "\n",
    "        return y_q_label_df, y_a_label_df, self.q_feature_col, self.a_feature_col\n",
    "\n",
    "    def auto_classify(self):\n",
    "        \"\"\"\n",
    "        This result maybe get better result but not palusible.\n",
    "        Because we don't konw how this data collect and why they got this pattern result\n",
    "        So we can not make sure new data will still classify like 0.5 0.633\n",
    "\n",
    "        input will be a column of label feature and output will be a 10 dimension to_categrical matrix\n",
    "        \"\"\"\n",
    "        y_q_label_df = to_categorical(self.y_question_df.iloc[:, 0], num_classes=4)\n",
    "        y_a_label_df = to_categorical(self.y_answer_df.iloc[:, 0], num_classes=5)\n",
    "\n",
    "        return y_q_label_df, y_a_label_df\n",
    "\n",
    "    def manual_calssify(self, label_col):\n",
    "        \"\"\"\n",
    "        This function will manually segement numerical\n",
    "        \"\"\"\n",
    "        # initial empty matrix\n",
    "        categorical = np.zeros((len(label_col), 10), dtype='float32')\n",
    "        for idx, label in enumerate(label_col):\n",
    "            if 0 <= label < 0.1:\n",
    "                categorical[idx, 0] = 1\n",
    "            elif 0.1 <= label < 0.2:\n",
    "                categorical[idx, 1] = 1\n",
    "            elif 0.2 <= label < 0.3:\n",
    "                categorical[idx, 2] = 1\n",
    "            elif 0.3 <= label < 0.4:\n",
    "                categorical[idx, 3] = 1\n",
    "            elif 0.4 <= label < 0.5:\n",
    "                categorical[idx, 4] = 1\n",
    "            elif 0.5 <= label < 0.6:\n",
    "                categorical[idx, 5] = 1\n",
    "            elif 0.6 <= label < 0.7:\n",
    "                categorical[idx, 6] = 1\n",
    "            elif 0.7 <= label < 0.8:\n",
    "                categorical[idx, 7] = 1\n",
    "            elif 0.8 <= label < 0.9:\n",
    "                categorical[idx, 8] = 1\n",
    "            elif 0.9 <= label <= 1.0:\n",
    "                categorical[idx, 9] = 1\n",
    "            else:\n",
    "                print('ERROR', label)\n",
    "\n",
    "        # test part, if our calcuatlion is correct, all row should be included and have exactly number one\n",
    "        # If correct, nothing happen, if condition return false, AssertionError is raised\n",
    "        assert np.sum(categorical, axis=1).sum() == len(label_col)\n",
    "        #         (unique, counts) = np.unique(test_13, return_counts=True)\n",
    "        return categorical\n",
    "\n",
    "    # def classify_label(self):\n",
    "    #     \"\"\"\n",
    "    #     Use this function to transfomr each classify column result into list\n",
    "    #\n",
    "    #     :return:\n",
    "    #     \"\"\"\n",
    "    #     # we need iterate each\n",
    "    #     for idx, col in enumerate(self.q_feature_col):\n",
    "    #     y_q_table_0 = label_class.manual_calssify(y_q_label_df.iloc[:, 0])\n",
    "\n",
    "\n",
    "\n",
    "        \"\"\"\n",
    "        # convert input dimension into np.array int format\n",
    "        y = np.array(y, dtype='int')\n",
    "        # get input_shape of y. Be caution, we accept high dimension narray as input\n",
    "        input_shape = y.shape\n",
    "        # if input_shape is exist, and last dimension is 1 and dimension of input_shape more than 2, then we only need the non-one part\n",
    "        # for exmaple, if intput dimension last number is 1, then we think the use dimension is not include this one.\n",
    "        # the final input_shape will only be dimesion from number to second to last (3,3,1) -> (3,3)\n",
    "        if input_shape and input_shape[-1] == 1 and len(input_shape) > 1:\n",
    "            input_shape = tuple(input_shape[:-1])\n",
    "        # flattern the y into contiguous array\n",
    "        y = y.ravel()\n",
    "        # if we don't specifity assign the classification number, the number of class of will max of y blus one \n",
    "        if not num_classes:\n",
    "            num_classes = np.max(y) + 1\n",
    "        # n is the number of examples\n",
    "        n = y.shape[0]\n",
    "        # create an empty matrix with (n,classes) dimension, n is number of exmaple,\n",
    "        categorical = np.zeros((n, num_classes), dtype=dtype)\n",
    "        #\n",
    "        categorical[np.arange(n), y] = 1\n",
    "        output_shape = input_shape + (num_classes,)\n",
    "        categorical = np.reshape(categorical, output_shape)\n",
    "        return categorical\n",
    "        \"\"\""
   ]
  },
  {
   "cell_type": "code",
   "execution_count": 13,
   "metadata": {},
   "outputs": [],
   "source": [
    "# label_class = LabelProcess(y_question_df, y_answer_df)\n",
    "# y_q_label_df, y_a_label_df, feature_col_q, feature_col_a = label_class.num_label()\n",
    "# y_q_table_0 = label_class.manual_calssify(y_q_label_df.iloc[:, 0])"
   ]
  },
  {
   "cell_type": "code",
   "execution_count": 14,
   "metadata": {},
   "outputs": [],
   "source": [
    "# lab_class = LabelProcess(y_question_df, y_answer_df)\n",
    "# # y_q_label_df, y_a_label_df = lab_class.classify_label()\n",
    "# y_a_label_np = lab_class.manual_calssify(y_answer_df.iloc[:,0])\n",
    "# y_a_label_np.shape"
   ]
  },
  {
   "cell_type": "code",
   "execution_count": 15,
   "metadata": {},
   "outputs": [],
   "source": [
    "# y_answer_df.iloc[:,0]\n",
    "\n",
    "# test_13\n",
    "\n",
    "\n",
    "# np.sum(test_13, axis=1)\n",
    "\n",
    "# (unique, counts) = np.unique(test_13, return_counts=True)\n",
    "\n",
    "# unique\n",
    "\n",
    "# counts\n",
    "\n",
    "# y_answer_df.iloc[:,0].value_counts()\n",
    "\n",
    "# y_q_label_df = to_categorical(y_question_df, num_classes=4)\n",
    "\n",
    "# y_q_label_df.shape\n",
    "\n",
    "# y = y_question_df\n",
    "\n",
    "# y\n",
    "\n",
    "# input_shape = y.shape\n",
    "\n",
    "# input_shape\n",
    "\n",
    "# num_classes = 10\n",
    "\n",
    "# input_shape = np.zeros((3,3,1)).shape\n",
    "\n",
    "# input_shape\n",
    "\n",
    "# if input_shape and input_shape[-1] == 1 and len(input_shape) > 1:\n",
    "#     input_shape = tuple(input_shape[:-1])\n",
    "#     print(input_shape)\n",
    "\n",
    "# y = np.array(y, dtype='int')\n",
    "# y = y.ravel()\n",
    "# n = y.shape[0]\n",
    "# categorical = np.zeros((n, num_classes), dtype='float32')\n",
    "# # categorical[np.arange(n), y] = 1\n",
    "\n",
    "# type(categorical)\n",
    "\n",
    "# y.shape\n",
    "\n",
    "# categorical.shape\n",
    "\n",
    "# categorical[6079, y] = 1\n",
    "\n",
    "# output_shape = input_shape + (num_classes,)\n",
    "# output_shape\n",
    "\n",
    "\n",
    "\n",
    "\n",
    "\n",
    "\n",
    "\n",
    "# y_question_df\n",
    "\n",
    "# y_a_label_df.shape\n",
    "\n",
    "# y_a_label_df[2]\n",
    "\n",
    "# y_answer_df.head(2)\n",
    "\n",
    "# y_answer_df.iloc[:,0]\n",
    "\n",
    "# y_answer_df.iloc[:,0].value_counts()\n",
    "\n",
    "\n",
    "\n",
    "\n",
    "\n",
    "# answer_cleaned_df['cleaned']\n",
    "\n",
    "# sentence_len = [len(x) for x in answer_cleaned_df['cleaned']]\n",
    "# sentence_len_arr = np.array(sentence_len)\n",
    "# # change the type to numpy array and get 95%/90%/85%th percentile of the data value\n",
    "# print(f\"95%th percentile of cleaned sentence lenght is {np.percentile(sentence_len_arr, 95)}\")    \n",
    "# print(f\"90%th percentile of sentence lenght is {np.percentile(sentence_len_arr, 90)}\")\n",
    "# print(f\"85%th percentile of  sentence lenght is {np.percentile(sentence_len_arr, 85)}\")\n",
    "# sentence_len.sort()\n",
    "# plt.plot(np.arange(len(sentence_len)), sentence_len)\n",
    "# plt.title(\"Sentence Length Distribution\")\n",
    "# plt.xlabel(\"Sentence Amount\")\n",
    "# plt.ylabel(\"Sentence Length\")\n",
    "# plt.show()\n",
    "\n"
   ]
  },
  {
   "cell_type": "markdown",
   "metadata": {},
   "source": [
    "<br>"
   ]
  },
  {
   "cell_type": "markdown",
   "metadata": {},
   "source": [
    "<br>"
   ]
  },
  {
   "cell_type": "markdown",
   "metadata": {},
   "source": [
    "<br>"
   ]
  },
  {
   "cell_type": "markdown",
   "metadata": {},
   "source": [
    "### <a id=\"3.6 EDA\">3.6 EDA</a>\n",
    "<a href=\"#2.Table of Contents\">Click this Link back to Top</a>"
   ]
  },
  {
   "cell_type": "code",
   "execution_count": 16,
   "metadata": {},
   "outputs": [],
   "source": [
    "import numpy as np\n",
    "#cacualte spearmen correcltion\n",
    "from scipy import stats\n",
    "# make picture\n",
    "import matplotlib.pyplot as plt\n",
    "# draw picture\n",
    "import seaborn as sns\n",
    "\n",
    "\n",
    "\n",
    "class EdaData(object):\n",
    "    \"\"\"\n",
    "    explorer this data structure\n",
    "    The parameters need to be decided by eda:\n",
    "        self.MAX_WORD = ???\n",
    "    \"\"\"\n",
    "\n",
    "    def __init__(self):\n",
    "        \"\"\"\n",
    "        \"\"\"\n",
    "        # using distribution to decide this parameters\n",
    "        self.MAX_SEQ_LENGTH = 400\n",
    "\n",
    "    # def q_distribution_plot():\n",
    "    #     # from the plot we can see\n",
    "    #     plt.scatter(y_answer_df.index, y_answer_df.iloc[:, 0])\n",
    "    #     plt.show()\n",
    "\n",
    "    def question_plot(self, df):\n",
    "        \"\"\"\n",
    "        Due to different column number, we need to\n",
    "        \"\"\"\n",
    "        #\n",
    "        fig, axes = plt.subplots(7, 3, figsize=(18, 15))\n",
    "        axes = axes.ravel()\n",
    "        bins = np.linspace(0, 1, 20)\n",
    "\n",
    "        for i, col in enumerate(df.columns):\n",
    "            ax = axes[i]\n",
    "            sns.histplot(df[col], label=col, kde=False, bins=bins, ax=ax)\n",
    "            # ax.set_title(col)\n",
    "            ax.set_xlim([0, 1])\n",
    "            ax.set_ylim([0, 6079])\n",
    "        plt.tight_layout()\n",
    "        # plt.show() will release memory, so we need save file before show()\n",
    "        plt.savefig('04_images/10_question_plot.png', dpi=150, format='png')\n",
    "        plt.show()\n",
    "        plt.close()\n",
    "\n",
    "    def answer_plot(self, df):\n",
    "        \"\"\"\n",
    "        Due to different column number, we need to\n",
    "        \"\"\"\n",
    "        #\n",
    "        fig, axes = plt.subplots(3, 3, figsize=(18, 15))\n",
    "        axes = axes.ravel()\n",
    "        bins = np.linspace(0, 1, 20)\n",
    "\n",
    "        for i, col in enumerate(df.columns):\n",
    "            ax = axes[i]\n",
    "            sns.histplot(df[col], label=col, kde=False, bins=bins, ax=ax)\n",
    "            # ax.set_title(col)\n",
    "            ax.set_xlim([0, 1])\n",
    "            ax.set_ylim([0, 6079])\n",
    "        plt.tight_layout()\n",
    "        plt.savefig('04_images/11_answer_plot.png', dpi = 250, format='png')\n",
    "        plt.show()\n",
    "        plt.close()\n",
    "\n",
    "    def eda_length(self, df):\n",
    "        \"\"\"\n",
    "        use statisc and plot to determine hyperparameters, such as MAX_SEQ_LEN, TOP_WORDS\n",
    "        Arugs:\n",
    "        ------\n",
    "\n",
    "        \"\"\"\n",
    "        # get the 'AUTHOR' column sentence length\n",
    "        sentence_len = [len(x) for x in df[df.columns[0]]]\n",
    "        sentence_len_arr = np.array(sentence_len)\n",
    "        # change the type to numpy array and get 95%/90%/85%th percentile of the data value\n",
    "        print(f\"95%th percentile of {df.columns[0]} sentence lenght is {np.percentile(sentence_len_arr, 95)}\")\n",
    "        print(f\"90%th percentile of {df.columns[0]} sentence lenght is {np.percentile(sentence_len_arr, 90)}\")\n",
    "        print(f\"85%th percentile of {df.columns[0]} sentence lenght is {np.percentile(sentence_len_arr, 85)}\")\n",
    "        # get sorted\n",
    "        sentence_len.sort()\n",
    "        plt.plot(np.arange(len(sentence_len)), sentence_len)\n",
    "        plt.title(\"Sentence Length Distribution\")\n",
    "        plt.xlabel(\"Sentence Amount\")\n",
    "        plt.ylabel(\"Sentence Length\")\n",
    "        plt.show()\n",
    "        print(\n",
    "            f\"For MAX_SEQ_LEN, 1000 words in one sentce will reasonable to preseve 90% sentence and delete outlier value\")\n",
    "\n",
    "        return None"
   ]
  },
  {
   "cell_type": "code",
   "execution_count": 17,
   "metadata": {},
   "outputs": [],
   "source": [
    "# eda_class = EdaData()\n",
    "\n",
    "# eda_class.question_plot(y_question_df)\n",
    "\n",
    "# eda_class.answer_plot(y_answer_df)"
   ]
  },
  {
   "cell_type": "code",
   "execution_count": 18,
   "metadata": {},
   "outputs": [],
   "source": [
    "# y_answer_df.iloc[:,0]\n",
    "\n",
    "# # from the plot we can see\n",
    "# plt.scatter(y_answer_df.index, y_answer_df.iloc[:,0])\n",
    "# plt.title(y_answer_df.columns[0])\n",
    "# plt.show()\n",
    "\n",
    "# data_10 = y_answer_df.iloc[:,1]\n",
    "# data_10.value_counts()\n",
    "\n",
    "# b = data_10.value_counts()\n",
    "\n",
    "# b.values\n",
    "\n",
    "# plt.hist(data_10)\n",
    "\n",
    "# plt.scatter(b.index, s=b.values, c=np.random.rand(10), alpha=0.5)"
   ]
  },
  {
   "cell_type": "code",
   "execution_count": null,
   "metadata": {},
   "outputs": [],
   "source": []
  },
  {
   "cell_type": "code",
   "execution_count": null,
   "metadata": {},
   "outputs": [],
   "source": []
  },
  {
   "cell_type": "markdown",
   "metadata": {},
   "source": [
    "# <a id=\"4.Word2Vect\">4.Word2Vect</a>\n",
    "<a href=\"#2.Table of Contents\">Click this Link back to Top</a>"
   ]
  },
  {
   "cell_type": "markdown",
   "metadata": {},
   "source": [
    "There are seveal ways we can let model to learn how to provide score in each judgement"
   ]
  },
  {
   "cell_type": "markdown",
   "metadata": {},
   "source": [
    "- <del>1.TFIDF ( if using max_df and min_df, perhaps not fit seq2seq generation model)</del>\n",
    "- 2.RandomEmbedding\n",
    "- 3.GLOVE\n",
    "- 4.LDA"
   ]
  },
  {
   "cell_type": "markdown",
   "metadata": {},
   "source": [
    "TFIDF not word2vect, it just cacualte a numerical value for each word and concatenate into sentence to build a matrix"
   ]
  },
  {
   "cell_type": "markdown",
   "metadata": {},
   "source": [
    "### <a id=\"4.1 TFIDF\">4.1 TFIDF</a>\n",
    "<a href=\"#2.Table of Contents\">Click this Link back to Top</a>"
   ]
  },
  {
   "cell_type": "code",
   "execution_count": 19,
   "metadata": {},
   "outputs": [],
   "source": [
    "class TfidfData(object):\n",
    "    \"\"\"\n",
    "    \"\"\"\n",
    "    def __init__(self):\n",
    "        \n",
    "        \"\"\"\n",
    "        initial hyperparameters\n",
    "        \"\"\"\n",
    "        # build a vocabulary that only consider the top max_features ordered by term frequency across the corpus. learned from EDA\n",
    "        self.MAX_WORD = 13332\n",
    "        \n",
    "    def tfidf(df, vectorizer=None, to_cat= True):\n",
    "        \"\"\"\n",
    "        Becuase we have to mentain \n",
    "        the relationship between corpus and his lable, we have several times list to DataFrame processes.\n",
    "        I didn't show EDA part for setting up \n",
    "\n",
    "        Parameters:\n",
    "        ------------\n",
    "        df:pandas.DataFrame\n",
    "            DataFrame, contain ['AUTHOR'] and ['CLASSIFY']. This is raw data.\n",
    "\n",
    "        vectorizer:cofig\n",
    "            When we apply to \n",
    "\n",
    "        Return:\n",
    "        -------\n",
    "        X_vector:array\n",
    "            Dimension = (cleaned example, MAX_WORD).Cleaned data and transformed to TFIDF format \n",
    "            with original sequence, which means can be matched withcooresponding y_labels.\n",
    "\n",
    "        y_vector:\n",
    "            Dimension = (no. cleaned examples, NUM_LABELS)=(9630,3)\n",
    "\n",
    "\n",
    "        \"\"\"\n",
    "        print(\"*\"*50,\"Start TFIDF transfrom\", \"*\"*50)\n",
    "        start_time = time.time()\n",
    "\n",
    "         #*****************************cut down Part of optimization******************************************\n",
    "    #     #we can't directly drop column because index will dynamicly decrease, but we can gather index of drop\n",
    "    #     index_drop=[]\n",
    "    #     #iteration through all DataFrame\n",
    "    #     for i in range(len(df)):\n",
    "    #         #according to plot and statitc result,>600 have 2628, <60 have 3540, so we only need 60<data<600\n",
    "    #         if len(df.iloc[i,0])<60 or len(df.iloc[i,0])>600:\n",
    "    #             #delete too big and too small\n",
    "    #             index_drop.append(i)\n",
    "    #     print(f\"before drop shape={df.shape}\")\n",
    "\n",
    "    #     #drop row by list but remain old index number\n",
    "    #     df = df.drop(index_drop,axis=0)\n",
    "    #     print(f\"after drop shape={df.shape}\")\n",
    "    #     #re.finall(\\w+)  \n",
    "    #     #*****************************cut down Part of optimization******************************************\n",
    "\n",
    "        # inintial we need use vectorizer from train to process test data\n",
    "        if vectorizer == None:\n",
    "            vectorizer = TfidfVectorizer(sMAX_WORD='english', max_features = MAX_WORD)\n",
    "            #when we built a vect, we need to import all words as corpus combination to generate a TFIDF dictornary\n",
    "            vect = vectorizer.fit([\" \".join(df['AUTHOR'].tolist())])\n",
    "            #after fit, we need to use dictionary to transform our coupus into TFIDF(we can use sum() to check sparse)\n",
    "            data_2 = vect.transform(df['AUTHOR']).toarray()\n",
    "            X_vector = np.array(data_2)\n",
    "        else:\n",
    "            vect = vectorizer.fit([\" \".join(df['AUTHOR'].tolist())])\n",
    "            #after fit, we need to use dictionary to transform our coupus into TFIDF(we can use sum() to check sparse)\n",
    "            X_vector = vect.transform(df['AUTHOR']).toarray()\n",
    "\n",
    "        if to_categorical == True:\n",
    "            #To remain the relation between AUTHOR vector and CLASSIFY labels, we also output y_vector coorespondingly\n",
    "            y_vector = to_categorical(np.array(df['CLASSIFY']))\n",
    "        else:\n",
    "            y_vector = df['CLASSIFY']\n",
    "\n",
    "        cost_time = round((time.time()- start_time),4)\n",
    "        print(\"*\"*40,\"End tfidf() with {} second\".format(cost_time), \"*\"*40, end='\\n\\n')\n",
    "\n",
    "        return df, X_vector, y_vector, vect"
   ]
  },
  {
   "cell_type": "markdown",
   "metadata": {},
   "source": [
    "Is that more robust if i divide 13332 for every value in vector dataset?"
   ]
  },
  {
   "cell_type": "code",
   "execution_count": 20,
   "metadata": {},
   "outputs": [],
   "source": [
    "# chatbot\n",
    "# BLUE Rougue"
   ]
  },
  {
   "cell_type": "code",
   "execution_count": 21,
   "metadata": {},
   "outputs": [],
   "source": [
    "# y_label_df.head(5)"
   ]
  },
  {
   "cell_type": "markdown",
   "metadata": {},
   "source": [
    "<br>"
   ]
  },
  {
   "cell_type": "markdown",
   "metadata": {},
   "source": [
    "<br>"
   ]
  },
  {
   "cell_type": "markdown",
   "metadata": {},
   "source": [
    "### <a id=\"4.2 Glove Vector\">4.2 Glove Vector</a>\n",
    "<a href=\"#2.Table of Contents\">Click this Link back to Top</a>"
   ]
  },
  {
   "cell_type": "code",
   "execution_count": 50,
   "metadata": {},
   "outputs": [],
   "source": [
    "import numpy as np\n",
    "from time import time\n",
    "\n",
    "# see the loop progress\n",
    "from tqdm import tqdm\n",
    "\n",
    "\n",
    "from class_31_hyperparameters import HyperParameters\n",
    "\n",
    "class GloveVect(HyperParameters):\n",
    "    def __init__(self):\n",
    "        \"\"\"\n",
    "        All the hyperparameters need initialize in this section\n",
    "        \"\"\"\n",
    "        HyperParameters.__init__(self)\n",
    "\n",
    "    def glove_vect(self, word_index):\n",
    "        \"\"\"\n",
    "        Argus:\n",
    "        ------\n",
    "        word_index:dict\n",
    "            unique word dictionary from tokenize_data(). For this example, word_index contain a dictionary from 27014 words to a number\n",
    "            which number represent frequence and ordered from most ferquency to least frequency\n",
    "\n",
    "        Returns:\n",
    "        --------\n",
    "        \"\"\"\n",
    "        print(\"*\" * 50, \"Start glove_vect() process\", \"*\" * 50)\n",
    "        start_time = time()\n",
    "\n",
    "        # key = words;  values = word vector\n",
    "        embedding_index = {}\n",
    "        # split by line and first word in line is the word represented, following 50 numbers is pre-trained word vector\n",
    "        f = open(self.PATH, 'r', encoding='utf-8')\n",
    "        # glove store in a line which contain values and word splited by whitespace\n",
    "        for line in f:\n",
    "            values = line.split()\n",
    "            # first value is word\n",
    "            word = values[0]\n",
    "            # next result are glove embedding vector\n",
    "            coefs = np.asarray(values[1:], dtype='float32')\n",
    "            # embeddings_index will be a dict representing relationship between word and its pretrained 50 dimension vector\n",
    "            embedding_index[word] = coefs\n",
    "        f.close()\n",
    "\n",
    "        # this is depended on which GLOVE was choosed\n",
    "        # self.EMBEDDING_DIM = 50\n",
    "        # create a empty matrix to filled in glove, this matrix will be a 27015(27014+1) by 50 dimension matrix\n",
    "        embedding_matrix = np.zeros((len(word_index) + 1, self.EMBEDDING_DIM))\n",
    "        # take the key=word and value=i to iterate\n",
    "        for word, i in tqdm(word_index.items()):\n",
    "            # get the corresponding 50d vectro of \"word\" , for example 'the' (50,) vector\n",
    "            embedding_vector = embedding_index.get(word)\n",
    "            # if we can find word in GLOVE, he will have a None-Zero vector.\n",
    "            # if we didn't find, this row/word will be np.zero\n",
    "            if embedding_vector is not None:\n",
    "                # words not found in embedding index will be all-zeros.\n",
    "                embedding_matrix[i] = embedding_vector\n",
    "\n",
    "        cost_time = round((time() - start_time), 4)\n",
    "        print(\"*\" * 40, \"End glove_vect() with {} seconds\".format(cost_time), \"*\" * 40, end='\\n\\n')\n",
    "        return embedding_matrix, embedding_index\n",
    "\n"
   ]
  },
  {
   "cell_type": "code",
   "execution_count": 23,
   "metadata": {},
   "outputs": [],
   "source": [
    "# glove_class = GloveVect()"
   ]
  },
  {
   "cell_type": "code",
   "execution_count": 24,
   "metadata": {},
   "outputs": [],
   "source": [
    "# embedding_matrix, embedding_index = glove_class.glove_vect(word_index)"
   ]
  },
  {
   "cell_type": "markdown",
   "metadata": {},
   "source": [
    "<br>"
   ]
  },
  {
   "cell_type": "markdown",
   "metadata": {},
   "source": [
    "<br>"
   ]
  },
  {
   "cell_type": "markdown",
   "metadata": {},
   "source": [
    "<br>"
   ]
  },
  {
   "cell_type": "markdown",
   "metadata": {},
   "source": [
    "### <a id=\"4.5 Embedding\">4.5 Embedding</a>\n",
    "<a href=\"#2.Table of Contents\">Click this Link back to Top</a>"
   ]
  },
  {
   "cell_type": "code",
   "execution_count": 25,
   "metadata": {},
   "outputs": [],
   "source": [
    "# each step we need moniter its processing progress and running time\n",
    "from time import time\n",
    "# We can not isolate using Embeding, we  need first get intput a Input() layer and then Embeeding\n",
    "from tensorflow.keras.layers import Embedding, Input\n",
    "# need use this model to initial embedding layer\n",
    "from tensorflow.keras import Model\n",
    "# Inheriest some constant from hyerparameters\n",
    "# from class_31_hyperparameters import HyperParameters\n",
    "\n",
    "class MultiEmbedding(HyperParameters):\n",
    "    \"\"\"\n",
    "    For this embedding class, i will standardize a output content and shape.\n",
    "    In put will be\n",
    "    word_index: dictionary\n",
    "        the pair for {word:index}\n",
    "    padded\n",
    "\n",
    "    \"\"\"\n",
    "    def __init__(self):\n",
    "        \"\"\"\n",
    "        inhereit from HyperParameters Class\n",
    "        :return:\n",
    "        \"\"\"\n",
    "        # super(MultiEmbedding,self).__init__()\n",
    "        HyperParameters.__init__(self)\n",
    "\n",
    "\n",
    "    def glove_embedding(self, word_index, padded, embedding_matrix, part='q'):\n",
    "        \"\"\"\n",
    "        Typically method is transform word vector first and find cooresponding word in a sentcen, using word vector to concatenate setence vector\n",
    "        But i can't find a tokenize() function to using seperate dictionary to complete tokenziation process\n",
    "        Embedding can do that. When you set trainale=False, the weights, embedding_matrix, will be change and mapping word vector by word\n",
    "\n",
    "        Argus:\n",
    "        -----\n",
    "        word_index:dictionary\n",
    "            provide a index <-> word mapping table\n",
    "\n",
    "        padded:array\n",
    "            (number of example, MAX_SEQ_LEN)\n",
    "\n",
    "        embedding_matrix:dictionary\n",
    "            provide a word <-> word vector mapping table\n",
    "        \"\"\"\n",
    "        print(\"*\" * 50, \"Start Glove embedding process\", \"*\" * 50)\n",
    "        start_time = time()\n",
    "\n",
    "\n",
    "        MAX_SEQ_LEN = None\n",
    "        if part == 'q':\n",
    "            MAX_SEQ_LEN = self.MAX_Q_SEQ_LEN\n",
    "        elif part == 'a':\n",
    "            MAX_SEQ_LEN = self.MAX_A_SEQ_LEN\n",
    "        else:\n",
    "            print(f\"Please indicate you want embedding question part or answer part\")\n",
    "\n",
    "\n",
    "        input_layer = Input(shape=(MAX_SEQ_LEN,), dtype='int32')\n",
    "        embedding_layer = Embedding(input_dim = len(word_index) + 1,\n",
    "                                    output_dim = self.EMBEDDING_DIM,\n",
    "                                    weights=[embedding_matrix],\n",
    "                                    input_length=MAX_SEQ_LEN,\n",
    "                                    trainable=False)(input_layer)\n",
    "        # (number of sample, MAX_SEQ_LEN, EMBEDING_DIM)\n",
    "        model = Model(inputs=input_layer, outputs=embedding_layer)\n",
    "        model.compile('rmsprop', 'mse')\n",
    "        output_array = model.predict(padded)\n",
    "\n",
    "        cost_time = round((time() - start_time), 4)\n",
    "        print(\"*\" * 40, \"End Glove embedding() with {} seconds\".format(cost_time), \"*\" * 40, end='\\n\\n')\n",
    "\n",
    "        return output_array, embedding_layer\n",
    "\n",
    "    def random_embedding(self, word_index, padded, part='q'):\n",
    "        \"\"\"\n",
    "        This funciont is just random initialize word vectors by keras.embedding\n",
    "\n",
    "\n",
    "        Argus:\n",
    "        ------\n",
    "        :param word_index:coming from tokenize process\n",
    "        :param padded: coming from tokenize function\n",
    "\n",
    "        part:string\n",
    "            (q) represent question part, then we use hyperparameters of question\n",
    "            (a) represent answer part, then we use answer question\n",
    "        Returns:\n",
    "        -------\n",
    "        output_array:numpy.ndarray\n",
    "            This is embedding version lookup, it transform tokenize lookup table into word vector lookup table\n",
    "            I.e. input is tokenize document have shape (5000, 1000)\n",
    "            5000 is sentences number, 1000 is MAX_SEQ_LEN (because padded to same length)\n",
    "            output will be (5000, 1000, 100) if EMBEDDING_DIM = 100\n",
    "\n",
    "        embedding_layer:Tensor\n",
    "\n",
    "        \"\"\"\n",
    "        print(\"*\" * 50, \"Start Random embedding process\", \"*\" * 50)\n",
    "        start_time = time()\n",
    "\n",
    "        # global MAX_SEQ_LEN\n",
    "        if part == 'q':\n",
    "            MAX_SEQ_LEN = self.MAX_Q_SEQ_LEN\n",
    "        elif part == 'a':\n",
    "            MAX_SEQ_LEN = self.MAX_A_SEQ_LEN\n",
    "        else:\n",
    "            print(f\"Please indicate you want embedding question part or answer part\")\n",
    "\n",
    "\n",
    "        # this is the max lenght of sentence, typically is the column length of DataFrame\n",
    "        input_layer = Input(shape = (MAX_SEQ_LEN,), dtype = 'int32')\n",
    "        # first argu is the max word serial number from tokenize function,\n",
    "        # i.e. 100001 menas reamin most 10000 frequency\n",
    "        embedding_layer = Embedding(input_dim = len(word_index) + 1,\n",
    "                                   output_dim = self.EMBEDDING_DIM,\n",
    "                                   input_length = MAX_SEQ_LEN)(input_layer)\n",
    "        model = Model(inputs = input_layer, outputs = embedding_layer)\n",
    "        model.compile('rmsprop', 'mse')\n",
    "        output_array = model.predict(padded)\n",
    "\n",
    "        cost_time = round((time() - start_time), 4)\n",
    "        print(\"*\" * 40, \"End Random embedding() with {} seconds\".format(cost_time), \"*\" * 40, end='\\n\\n')\n",
    "\n",
    "\n",
    "        return output_array, embedding_layer"
   ]
  },
  {
   "cell_type": "code",
   "execution_count": 26,
   "metadata": {},
   "outputs": [],
   "source": [
    "# embed_class = MultiEmbedding()\n",
    "# output_array, embedding_layer = embed_class.glove_embedding(word_index, X_q_train, embedding_matrix, part='q')"
   ]
  },
  {
   "cell_type": "code",
   "execution_count": 27,
   "metadata": {},
   "outputs": [],
   "source": [
    "# embed_class = MultiEmbedding()\n",
    "# embed_class.EMBEDDING_DIM"
   ]
  },
  {
   "cell_type": "code",
   "execution_count": 28,
   "metadata": {},
   "outputs": [],
   "source": [
    "# X_q_train.shape"
   ]
  },
  {
   "cell_type": "code",
   "execution_count": 29,
   "metadata": {},
   "outputs": [],
   "source": [
    "# model_class = BuildModels()\n",
    "# nn_model = model_class.test_model(output_array, y_a_train, embedding_layer,part = 'a')\n",
    "\n",
    "# compile_class = CompileFit()\n",
    "# #     history, model_2 = compile_fit(nn_model(word_index), X_q_train, X_q_val, y_q_train, y_q_val, loss_fun = 'mse', epoch_num=1)\n",
    "# history_a, model_a = compile_class.compile_fit(nn_model,\n",
    "#                                      output_array, X_a_val, y_a_train, y_a_val, loss_fun='categorical_crossentropy',\n",
    "#                                      epoch_num=3)\n",
    "\n",
    "# # If all words are all tokenzied, the max number is 72070\n",
    "# len(word_index)\n",
    "\n",
    "# question_padded.shape\n",
    "\n",
    "# X_a_train.shape\n",
    "\n",
    "# \n",
    "# \n",
    "\n",
    "# output_array.shape\n",
    "\n",
    "# type(output_array)\n",
    "\n",
    "# embeding_layer"
   ]
  },
  {
   "cell_type": "code",
   "execution_count": 30,
   "metadata": {},
   "outputs": [],
   "source": [
    "\n",
    "# embedding_layer.numpy()\n",
    "\n",
    "# type(output_array)\n",
    "\n",
    "# type(embedding_layer)\n",
    "\n",
    "# output_array.shape\n",
    "\n",
    "# output_array[0,0]\n",
    "\n",
    "# X_a_train\n",
    "\n",
    "# # word_index\n",
    "\n",
    "# X_answer_df\n",
    "\n",
    "# dir(embedding_layer)\n",
    "\n",
    "# embedding_layer."
   ]
  },
  {
   "cell_type": "code",
   "execution_count": 31,
   "metadata": {},
   "outputs": [],
   "source": [
    "# glove_class = GloveVect()\n",
    "# embedding_matrix, embedding_index = glove_class.glove_vect(word_index)"
   ]
  },
  {
   "cell_type": "markdown",
   "metadata": {},
   "source": [
    "<br>"
   ]
  },
  {
   "cell_type": "markdown",
   "metadata": {},
   "source": [
    "<br>"
   ]
  },
  {
   "cell_type": "markdown",
   "metadata": {},
   "source": [
    "<br>"
   ]
  },
  {
   "cell_type": "markdown",
   "metadata": {},
   "source": [
    "<br>"
   ]
  },
  {
   "cell_type": "markdown",
   "metadata": {},
   "source": [
    "### <a id=\"4.6 Split Data\">4.6 Split Data</a>\n",
    "<a href=\"#2.Table of Contents\">Click this Link back to Top</a>"
   ]
  },
  {
   "cell_type": "code",
   "execution_count": 51,
   "metadata": {},
   "outputs": [],
   "source": [
    "from time import time\n",
    "# split data with random seed (1024)\n",
    "from sklearn.model_selection import train_test_split\n",
    "\n",
    "\n",
    "class SplitData(object):\n",
    "    \"\"\"\n",
    "\n",
    "    \"\"\"\n",
    "    def split_data(self, X_vector, y_vector, test_size=0.2):\n",
    "        \"\"\"\n",
    "        this is only for padded data split\n",
    "        \"\"\"\n",
    "        print(\"*\" * 50, \"Start train_test_split\", \"*\" * 50)\n",
    "        start_time = time()\n",
    "        X_train, X_val, y_train, y_val = train_test_split(X_vector, y_vector, test_size=test_size,\n",
    "                                                          random_state=1024)\n",
    "\n",
    "        # X_train, X_val, y_train, y_val = train_test_split(X_train, y_train, test_size = 0.2, random_state = 37)\n",
    "\n",
    "        cost_time = round((time() - start_time), 4)\n",
    "        print(\"*\" * 40, \"End embedding() with {} seconds\".format(cost_time), \"*\" * 40, end='\\n\\n')\n",
    "        return X_train, X_val, y_train, y_val\n",
    "\n"
   ]
  },
  {
   "cell_type": "code",
   "execution_count": 33,
   "metadata": {},
   "outputs": [],
   "source": [
    "# X_train, X_test, X_val, y_train, y_test, y_val = split_data(question_padded,y_label_df, test_size=0.2)"
   ]
  },
  {
   "cell_type": "code",
   "execution_count": 34,
   "metadata": {},
   "outputs": [],
   "source": [
    "# y_train.shape"
   ]
  },
  {
   "cell_type": "code",
   "execution_count": null,
   "metadata": {},
   "outputs": [],
   "source": []
  },
  {
   "cell_type": "markdown",
   "metadata": {},
   "source": [
    "<br>"
   ]
  },
  {
   "cell_type": "markdown",
   "metadata": {},
   "source": [
    "<br>"
   ]
  },
  {
   "cell_type": "markdown",
   "metadata": {},
   "source": [
    "<br>"
   ]
  },
  {
   "cell_type": "markdown",
   "metadata": {},
   "source": [
    "# <a id=\"5.Classify\">5.Classify</a>\n",
    "<a href=\"#2.Table of Contents\">Click this Link back to Top</a>"
   ]
  },
  {
   "cell_type": "markdown",
   "metadata": {},
   "source": [
    "I will provide more than three type of input. All matrix will use number represent a whole sentence. What we can do include surpivsed learning to classify (NN, KNN) and unsurprivised learning to cluster (k-means + PCA)"
   ]
  },
  {
   "cell_type": "code",
   "execution_count": null,
   "metadata": {},
   "outputs": [],
   "source": []
  },
  {
   "cell_type": "code",
   "execution_count": null,
   "metadata": {},
   "outputs": [],
   "source": []
  },
  {
   "cell_type": "markdown",
   "metadata": {},
   "source": [
    "<a id=\"7.1 KNN\"></a>\n",
    "### 7.1 KNN\n",
    "<a href=\"#2.Table of Contents\">Click this Link back to Top</a>"
   ]
  },
  {
   "cell_type": "code",
   "execution_count": null,
   "metadata": {},
   "outputs": [],
   "source": []
  },
  {
   "cell_type": "markdown",
   "metadata": {},
   "source": [
    "<a id=\"7.2 Neural Network Classify\"></a>\n",
    "### 7.2 Neural Network Classify\n",
    "<a href=\"#2.Table of Contents\">Click this Link back to Top</a>"
   ]
  },
  {
   "cell_type": "markdown",
   "metadata": {},
   "source": [
    "tranform category to one-hot, last layer use softmax, use argmax() to get predict result"
   ]
  },
  {
   "cell_type": "code",
   "execution_count": null,
   "metadata": {},
   "outputs": [],
   "source": []
  },
  {
   "cell_type": "code",
   "execution_count": null,
   "metadata": {},
   "outputs": [],
   "source": []
  },
  {
   "cell_type": "markdown",
   "metadata": {},
   "source": [
    "<a id=\"7.3 K-means cluster + PCA\"></a>\n",
    "### 7.3 K-means cluster + PCA\n",
    "<a href=\"#2.Table of Contents\">Click this Link back to Top</a>"
   ]
  },
  {
   "cell_type": "markdown",
   "metadata": {},
   "source": [
    "Get high dimentsion cluster result and reduce dimenstion to get a 3D/2D visulization result"
   ]
  },
  {
   "cell_type": "code",
   "execution_count": null,
   "metadata": {},
   "outputs": [],
   "source": []
  },
  {
   "cell_type": "code",
   "execution_count": null,
   "metadata": {},
   "outputs": [],
   "source": []
  },
  {
   "cell_type": "code",
   "execution_count": null,
   "metadata": {},
   "outputs": [],
   "source": []
  },
  {
   "cell_type": "markdown",
   "metadata": {},
   "source": [
    "# <a id=\"6.Models\">6.Models</a>\n",
    "<a href=\"#2.Table of Contents\">Click this Link back to Top</a>"
   ]
  },
  {
   "cell_type": "markdown",
   "metadata": {},
   "source": [
    "### <a id=\"6.1 Basic Neural Network\">6.1 Basic Neural Network</a>\n",
    "<a href=\"#2.Table of Contents\">Click this Link back to Top</a>"
   ]
  },
  {
   "cell_type": "code",
   "execution_count": 35,
   "metadata": {},
   "outputs": [],
   "source": [
    "# at EDA get Tokenizer info for deciding hyperparameters\n",
    "from tensorflow.keras.preprocessing.text import Tokenizer\n",
    "\n",
    "# add padding to a tokenized sequence\n",
    "from tensorflow.keras.preprocessing.sequence import pad_sequences\n",
    "\n",
    "# input all the layers we might use\n",
    "from tensorflow.keras.layers import (Embedding, Dense, Conv1D, MaxPooling1D,\n",
    "                                     Dropout, Activation, Input, Flatten, Concatenate, LSTM, GlobalAveragePooling1D)\n",
    "\n",
    "# do not use sequential to build model\n",
    "from tensorflow.keras import Model\n",
    "\n",
    "# need specify lr in optiizer\n",
    "from tensorflow.keras import optimizers\n",
    "\n",
    "# use categorical to transform to one-hot coding\n",
    "from tensorflow.keras.utils import to_categorical\n",
    "import tensorflow as tf\n",
    "\n",
    "# inhere hyperparameters\n",
    "from class_31_hyperparameters import HyperParameters\n",
    "\n",
    "\n",
    "class BuildModels(HyperParameters):\n",
    "    def __init__(self):\n",
    "        # we need state here again to make sure this class can inhereite parameters from partent class\n",
    "        HyperParameters.__init__(self)\n",
    "\n",
    "\n",
    "    def nn_model(self, word_index, part='q', type='classify', pretrain_matrix = None):\n",
    "        \"\"\"\n",
    "        Input is just padded question sequence, add Embedding layer transorfrom\n",
    "        it into word vector and build up a sentence\n",
    "\n",
    "        Argus:\n",
    "        -----\n",
    "        part:str\n",
    "            'q' means input is question part, we need use question hyperparameters\n",
    "            'a' means input is answer part, we need use answer hyperparameters\n",
    "\n",
    "        pretrain:str\n",
    "            'Gloave' means we use glove pretrain\n",
    "            'Random' means we use random initial Embedding\n",
    "        \"\"\"\n",
    "\n",
    "        # we use this way to decide recall which hyperparameters\n",
    "        MAX_SEQ_LEN = None\n",
    "        OUTPUT_UNIT = None\n",
    "        OUTPUT_ACT = None\n",
    "        if part == 'q':\n",
    "            MAX_SEQ_LEN = self.MAX_Q_SEQ_LEN\n",
    "            OUTPUT_UNIT = self.Q_OUTPUT_UNIT\n",
    "        elif part == 'a':\n",
    "            MAX_SEQ_LEN = self.MAX_A_SEQ_LEN\n",
    "            OUTPUT_UNIT = self.A_OUTPUT_UNIT\n",
    "        else:\n",
    "            print(f\"Please indicate you want embedding question part or answer part\")\n",
    "\n",
    "        if type == 'num':\n",
    "            OUTPUT_ACT = 'linear'\n",
    "        elif type == 'classify':\n",
    "            OUTPUT_UNIT = 10\n",
    "            OUTPUT_ACT = 'softmax'\n",
    "\n",
    "        model = None\n",
    "        # input layer is fix, but embed_layer will change according to custom arguments\n",
    "        input_layer_1 = Input(shape=(MAX_SEQ_LEN,), dtype='float32')\n",
    "        # if we assign embedding matrix for arguments \"pretrain_matrx\", then we use pretrained Embedding\n",
    "        if (pretrain_matrix is not None):\n",
    "            embed_layer_2 = Embedding(input_dim=len(word_index) + 1,\n",
    "                                          output_dim=self.EMBEDDING_DIM,\n",
    "                                          weights=[pretrain_matrix],\n",
    "                                          input_length=MAX_SEQ_LEN,\n",
    "                                          trainable=False,\n",
    "                                          name=\"embedding_layer_2\"\n",
    "                                          )(input_layer_1)\n",
    "        # then we use random initial embedding layer\n",
    "        else:\n",
    "            embed_layer_2 = Embedding(input_dim=len(word_index) + 1,\n",
    "                                      output_dim=self.EMBEDDING_DIM,\n",
    "                                      input_length=MAX_SEQ_LEN,\n",
    "                                      name = \"embedding_layer_2\"\n",
    "                                      )(input_layer_1)\n",
    "        pooling_layer_3 = GlobalAveragePooling1D()(embed_layer_2)\n",
    "        dense_layer_4 = Dense(units=32, activation='relu')(pooling_layer_3)\n",
    "        output_layer_5 = Dense(units=OUTPUT_UNIT, activation=OUTPUT_ACT)(dense_layer_4)\n",
    "        model = Model(inputs=input_layer_1, outputs=output_layer_5, name='nn_model')\n",
    "        model.summary()\n",
    "        return model\n",
    "\n",
    "\n",
    "\n",
    "    # def test_model(self, X_train, y_train, embedding_layer, part='q'):\n",
    "    #     \"\"\"\n",
    "    #\n",
    "    #     :return:\n",
    "    #     \"\"\"\n",
    "    #     # we use this way to decide recall which hyperparameters\n",
    "    #     # global MAX_SEQ_LEN\n",
    "    #     if part == 'q':\n",
    "    #         MAX_SEQ_LEN = self.MAX_Q_SEQ_LEN\n",
    "    #         OUTPUT_UNIT = self.Q_OUTPUT_UNIT\n",
    "    #     elif part == 'a':\n",
    "    #         MAX_SEQ_LEN = self.MAX_A_SEQ_LEN\n",
    "    #         OUTPUT_UNIT = self.A_OUTPUT_UNIT\n",
    "    #     else:\n",
    "    #         print(f\"Please indicate you want embedding question part or answer part\")\n",
    "    #\n",
    "    #     input_layer_1 = Input(shape=(1000, 100,))\n",
    "    #     pooling_layer_3 = GlobalAveragePooling1D()(input_layer_1)\n",
    "    #     dense_layer_4 = Dense(units=32, activation='relu')(pooling_layer_3)\n",
    "    #     output_layer_5 = Dense(units=10, activation='softmax')(dense_layer_4)\n",
    "    #     model = Model(inputs=input_layer_1, outputs=output_layer_5, name='nn_model')\n",
    "    #     model.summary()\n",
    "    #\n",
    "    #     model = Model(pooling_layer_3, output_layer_5)\n",
    "    #     # model.compile(loss='categorical_crossentropy',\n",
    "    #     #               optimizer='rmsprop',\n",
    "    #     #               metrics=['acc'])\n",
    "    #     # model.fit(X_train, y_train, validation_data=(x_val, y_val),\n",
    "    #     #           epochs=2, batch_size=128)\n",
    "\n",
    "        return model"
   ]
  },
  {
   "cell_type": "markdown",
   "metadata": {},
   "source": [
    "1.CNN(u-gim, bi, trigum = contcant)\n",
    "2.CNN \n",
    "3.GRU\n",
    "4.BERT"
   ]
  },
  {
   "cell_type": "markdown",
   "metadata": {},
   "source": []
  },
  {
   "cell_type": "code",
   "execution_count": 36,
   "metadata": {},
   "outputs": [],
   "source": [
    "# model_class = BuildModels()\n",
    "# compile_class = CompileFit()\n",
    "# model = model_class.nn_model(word_index, part='q', type='classify')"
   ]
  },
  {
   "cell_type": "code",
   "execution_count": null,
   "metadata": {},
   "outputs": [],
   "source": []
  },
  {
   "cell_type": "markdown",
   "metadata": {},
   "source": [
    "<br>"
   ]
  },
  {
   "cell_type": "markdown",
   "metadata": {},
   "source": [
    "### <a id=\"6.2 n-gram CNN\">6.2 n-gram CNN</a>\n",
    "<a href=\"#2.Table of Contents\">Click this Link back to Top</a>"
   ]
  },
  {
   "cell_type": "code",
   "execution_count": 37,
   "metadata": {},
   "outputs": [
    {
     "data": {
      "image/png": "[encoded data removed]",
      "text/plain": [
       "<IPython.core.display.Image object>"
      ]
     },
     "execution_count": 37,
     "metadata": {},
     "output_type": "execute_result"
    }
   ],
   "source": [
    "Image(filename = '04_images/18_CNN Architecture for sentence classification.png')"
   ]
  },
  {
   "cell_type": "code",
   "execution_count": 38,
   "metadata": {},
   "outputs": [],
   "source": [
    "from class_31_hyperparameters import HyperParameters\n",
    "\n",
    "from tensorflow.keras.layers import (Embedding, Dense, Conv1D, MaxPooling1D,\n",
    "                                     Dropout, Activation, Input, Flatten, Concatenate, LSTM, GlobalAveragePooling1D)\n",
    "from tensorflow.keras import Model\n",
    "\n",
    "class CNNModel(HyperParameters):\n",
    "    \"\"\"\n",
    "    A Sensitivity Analysis of (and Practitioners' Guide to) Convolutional Neural Networks for Sentence Classification\n",
    "    https://arxiv.org/abs/1510.03820\n",
    "    Convolutional Neural Networks for Sentence Classification https://arxiv.org/abs/1408.5882\n",
    "    This is new way to using cnn to complete classification\n",
    "    \n",
    "    In one class, i will use different complie to \n",
    "\n",
    "    \"\"\"\n",
    "    def __init__(self):\n",
    "        \"\"\"\n",
    "        Most of hyperparameters come from Hyperparameters class\n",
    "        :return:\n",
    "        \"\"\"\n",
    "        # state here again to make sure this class can inhereite parameters from partent class\n",
    "        HyperParameters.__init__(self)\n",
    "\n",
    "    def normal_cnn(self, word_index, part = 'q', type = 'classify', pretrain_matrix = None):\n",
    "        \"\"\"\n",
    "        This very simple CNN and we use it as our CNN benchmark\n",
    "\n",
    "        :return:\n",
    "        \"\"\"\n",
    "        # if i don't initial them in here, there will be a \"unbound loacl varble\" error\n",
    "        MAX_SEQ_LEN = None\n",
    "        output_units = None\n",
    "        output_act = None\n",
    "        if part == 'q':\n",
    "            MAX_SEQ_LEN = self.MAX_Q_SEQ_LEN\n",
    "        elif part == 'a':\n",
    "            MAX_SEQ_LEN = self.MAX_A_SEQ_LEN\n",
    "        else:\n",
    "            print(f\"Please indicate you want embedding question part or answer part\")\n",
    "        if type == 'num':\n",
    "            output_units = 1\n",
    "            output_act = 'linear'\n",
    "        elif type == 'classify':\n",
    "            output_units = 10\n",
    "            output_act = 'softmax'\n",
    "\n",
    "        model = None\n",
    "        # input layer is fix, but embed_layer will change according to custom arguments\n",
    "        input_layer_1 = Input(shape=(MAX_SEQ_LEN,), dtype='float32')\n",
    "        # if we assign embedding matrix for arguments \"pretrain_matrx\", then we use pretrained Embedding\n",
    "        if (pretrain_matrix is not None):\n",
    "            embed_layer_2 = Embedding(input_dim=len(word_index) + 1,\n",
    "                                      output_dim=self.EMBEDDING_DIM,\n",
    "                                      weights=[pretrain_matrix],\n",
    "                                      input_length=MAX_SEQ_LEN,\n",
    "                                      trainable=False,\n",
    "                                      name=\"embedding_layer_2\"\n",
    "                                      )(input_layer_1)\n",
    "        # then we use random initial embedding layer\n",
    "        else:\n",
    "            embed_layer_2 = Embedding(input_dim=len(word_index) + 1,\n",
    "                                      output_dim=self.EMBEDDING_DIM,\n",
    "                                      input_length=MAX_SEQ_LEN,\n",
    "                                      name=\"embedding_layer_2\"\n",
    "                                      )(input_layer_1)\n",
    "        # filer =32, kernel_size =5. output will be (number of example=6709, MAX_SEQ_LEN-kneral_size+1 =400-5+1, filer)\n",
    "        conv1d_layer_3 = Conv1D(filters=32, kernel_size=5, activation='relu', name='conv1D_layer_3')(embed_layer_2)\n",
    "        pooling_layer_4 = MaxPooling1D(pool_size=5)(conv1d_layer_3)\n",
    "        conv1d_layer_5 = Conv1D(filters=32, kernel_size=5, activation='relu', name='conv1D_layer_5')(pooling_layer_4)\n",
    "        pooling_layer_6 = MaxPooling1D(pool_size=5)(conv1d_layer_5)\n",
    "        flatten_layer_7 = Flatten()(pooling_layer_6)\n",
    "        dense_layer_8 = Dense(units=128, activation='relu')(flatten_layer_7)\n",
    "        output_layer_9 = Dense(output_units, activation=output_act)(dense_layer_8)\n",
    "        model = Model(inputs=input_layer_1, outputs=output_layer_9, name='CNN_Model')\n",
    "        model.summary()\n",
    "\n",
    "\n",
    "    def n_gram_cnn(self,word_index, type = 'classify', pretrain_matrix = None):\n",
    "        \"\"\"\n",
    "\n",
    "        Argus:\n",
    "        -----\n",
    "        word_index:dictionary\n",
    "            we have two word_index, q_word_index is coming from question part, a_word_index is coming from answer\n",
    "            And we use word_index to decide we you question or answer parameters\n",
    "\n",
    "        type:str\n",
    "            We need use this to decide this is regression problem or classify problem\n",
    "\n",
    "        pretrain_matrix:tensor.weight\n",
    "            if we assign pre-trained matrix for this arguments, we will use pre-train embedding layers\n",
    "\n",
    "        :return:model\n",
    "        \"\"\"\n",
    "        # if i don't initial them in here, there will be a \"unbound loacl varble\" error\n",
    "        MAX_SEQ_LEN = None\n",
    "        OUTPUT_UNIT = None\n",
    "        output_Act = None\n",
    "        if str(word_index) == 'q_word_index':\n",
    "            MAX_SEQ_LEN = self.MAX_Q_SEQ_LEN\n",
    "            OUTPUT_UNIT = self.Q_OUTPUT_UNIT\n",
    "        elif str(word_index) == 'a_word_index':\n",
    "            MAX_SEQ_LEN = self.MAX_A_SEQ_LEN\n",
    "            OUTPUT_UNIT = self.A_OUTPUT_UNIT\n",
    "        else:\n",
    "            print(f\"Please indicate you want embedding question part or answer part\")\n",
    "\n",
    "        if type == 'num':\n",
    "            # this is the final layer parameters. When we want to transform to numerical\n",
    "            # if we want to use numerical, OUTPUT_UNIT will follow upper assign result\n",
    "            # maybe we could change this activation function to sigmoid?\n",
    "            OUTPUT_ACT = 'linear'\n",
    "        elif type == 'classify':\n",
    "            # if we need use classify model, we need transfrom output layer Dense unit into ten classify\n",
    "            OUTPUT_UNIT = 10\n",
    "            OUTPUT_ACT = 'softmax'\n",
    "\n",
    "        main_input = Input(shape = (MAX_SEQ_LEN,), dtype='int32', name = 'main_input')\n",
    "        if (pretrain_matrix is not None):\n",
    "            embed_layer = Embedding(input_dim=len(word_index) + 1,\n",
    "                                      output_dim=self.EMBEDDING_DIM,\n",
    "                                      weights=[pretrain_matrix],\n",
    "                                      input_length=MAX_SEQ_LEN,\n",
    "                                      trainable=False,\n",
    "                                      name=\"embedding_layer_pretrain\"\n",
    "                                      )(main_input)\n",
    "            # then we use random initial embedding layer\n",
    "        else:\n",
    "            embed_layer = Embedding(input_dim=len(word_index) + 1,\n",
    "                                      output_dim=self.EMBEDDING_DIM,\n",
    "                                      input_length=MAX_SEQ_LEN,\n",
    "                                      name=\"embedding_layer_random\"\n",
    "                                      )(main_input)\n",
    "\n",
    "        # define first unigram covlutional layer\n",
    "        # filters maybe a hyperparameter we need to select\n",
    "        # when kernel_size =1, it's a uni-gram model\n",
    "        # embedding output dimension is (6079/NumofExample, 400/1000, 50), question =400, answer = 1000\n",
    "        # (400 - stride) / kerneal_size + 1 = 400 and filter =64, so output shape is (batch_size, 400, 64)\n",
    "        conv1d_3 = Conv1D(filters = 128, kernel_size = 1, activation='relu', name = 'conv_unigram')(embed_layer)\n",
    "        # actulay, in pooling layer, we use max-pooling (check from paper)\n",
    "        pool_3 = MaxPooling1D(pool_size = MAX_SEQ_LEN - 1 + 1, name = 'pool_unigram')(conv1d_3)\n",
    "        # the pooling layer create output is the size(Num_of_Example, 1, filters) = (batch_size, 1, 128)\n",
    "        # output of flatten is (64,)\n",
    "        flat_3 = Flatten(name = 'flatten_unigram')(pool_3)\n",
    "\n",
    "        # create bigram convoluation structre\n",
    "        conv1d_4 = Conv1D(filters = 128, kernel_size = 2, activation = 'rele', name = 'conv_bigram')(embed_layer)\n"
   ]
  },
  {
   "cell_type": "markdown",
   "metadata": {},
   "source": [
    "\n",
    "<br>"
   ]
  },
  {
   "cell_type": "markdown",
   "metadata": {},
   "source": [
    "\n",
    "<br>"
   ]
  },
  {
   "cell_type": "markdown",
   "metadata": {},
   "source": [
    "\n",
    "<br>"
   ]
  },
  {
   "cell_type": "markdown",
   "metadata": {},
   "source": [
    "### <a id=\"6.3 LSTM\">6.3 LSTM</a>\n",
    "<a href=\"#2.Table of Contents\">Click this Link back to Top</a>"
   ]
  },
  {
   "cell_type": "code",
   "execution_count": null,
   "metadata": {},
   "outputs": [],
   "source": []
  },
  {
   "cell_type": "code",
   "execution_count": 39,
   "metadata": {},
   "outputs": [],
   "source": [
    "# cnn_class = CNNModel()\n",
    "# cnn_class.normal_cnn()"
   ]
  },
  {
   "cell_type": "code",
   "execution_count": null,
   "metadata": {},
   "outputs": [],
   "source": []
  },
  {
   "cell_type": "code",
   "execution_count": null,
   "metadata": {},
   "outputs": [],
   "source": []
  },
  {
   "cell_type": "markdown",
   "metadata": {},
   "source": [
    "### <a id=\"6.4 BERT\">6.4 BERT</a>\n",
    "<a href=\"#2.Table of Contents\">Click this Link back to Top</a>"
   ]
  },
  {
   "cell_type": "code",
   "execution_count": null,
   "metadata": {},
   "outputs": [],
   "source": []
  },
  {
   "cell_type": "code",
   "execution_count": null,
   "metadata": {},
   "outputs": [],
   "source": []
  },
  {
   "cell_type": "code",
   "execution_count": null,
   "metadata": {},
   "outputs": [],
   "source": []
  },
  {
   "cell_type": "markdown",
   "metadata": {},
   "source": [
    "### <a id=\"6.5 Seq2Seq\">6.5 Seq2Seq</a>\n",
    "<a href=\"#2.Table of Contents\">Click this Link back to Top</a>"
   ]
  },
  {
   "cell_type": "code",
   "execution_count": null,
   "metadata": {},
   "outputs": [],
   "source": []
  },
  {
   "cell_type": "code",
   "execution_count": null,
   "metadata": {},
   "outputs": [],
   "source": []
  },
  {
   "cell_type": "code",
   "execution_count": null,
   "metadata": {},
   "outputs": [],
   "source": []
  },
  {
   "cell_type": "code",
   "execution_count": null,
   "metadata": {},
   "outputs": [],
   "source": []
  },
  {
   "cell_type": "markdown",
   "metadata": {},
   "source": [
    "<br>"
   ]
  },
  {
   "cell_type": "markdown",
   "metadata": {},
   "source": [
    "<br>"
   ]
  },
  {
   "cell_type": "markdown",
   "metadata": {},
   "source": [
    "<br>"
   ]
  },
  {
   "cell_type": "markdown",
   "metadata": {},
   "source": [
    "### <a id=\"6.8 compilefit\">6.8 compilefit</a>\n",
    "<a href=\"#2.Table of Contents\">Click this Link back to Top</a>"
   ]
  },
  {
   "cell_type": "code",
   "execution_count": 52,
   "metadata": {},
   "outputs": [],
   "source": [
    "from time import time\n",
    "# need specify lr in optiizer\n",
    "from tensorflow.keras import optimizers\n",
    "\n",
    "class CompileFit(object):\n",
    "\n",
    "    def __init__(self):\n",
    "        pass\n",
    "\n",
    "    def compile_fit(self, model_input, X_train, X_val, y_train, y_val, loss_fun, epoch_num=3):\n",
    "        \"\"\"\n",
    "        \"\"\"\n",
    "        start_time = time()\n",
    "        print(\"*\" * 40, \"Start {} Processing\".format(model_input._name), \"*\" * 40)\n",
    "\n",
    "        model = model_input\n",
    "        #     METRICS = [\n",
    "        #           metrics.TruePositives(name='tp'),\n",
    "        #           metrics.FalsePositives(name='fp'),\n",
    "        #           metrics.TrueNegatives(name='tn'),\n",
    "        #           metrics.FalseNegatives(name='fn'),\n",
    "        #           metrics.CategoricalAccuracy(name='accuracy'),\n",
    "        #           metrics.Precision(name='precision'),\n",
    "        #           metrics.Recall(name='recall'),\n",
    "        #           metrics.AUC(name='auc'),\n",
    "        #           F1Score(num_classes = int(y_train.shape[1]), name='F1')\n",
    "        #     ]\n",
    "\n",
    "        learning_rate = 1e-2\n",
    "        opt_adam = optimizers.Adam(lr=learning_rate, decay=1e-5)\n",
    "        model.compile(loss=loss_fun,\n",
    "                      optimizer=opt_adam,\n",
    "                      metrics=['accuracy'])\n",
    "        # batch_size is subjected to my GPU and GPU memory, after testing, 32 is reasonable value size.\n",
    "        # If vector bigger, this value should dercrease\n",
    "        history = model.fit(X_train, y_train, validation_data=(X_val, y_val),\n",
    "                            epochs=epoch_num, batch_size=32, verbose=1)\n",
    "        # dic = ['loss', 'accuracy', 'val_loss','val_accuracy']\n",
    "        history_dict = [x for x in history.history]\n",
    "        # model.predict(train_features[:10])\n",
    "\n",
    "        #     print(\"*\"*50)\n",
    "        #     x_axis = list(range(epoch_num))\n",
    "        #     # loss\n",
    "        #     plt.plot(x_axis, history.history[history_dict[0]], color = 'r', lw = 2, label = history_dict[0])\n",
    "        #     # val_loss\n",
    "        #     plt.plot(x_axis, history.history[history_dict[10]], color = 'y', lw = 2, label = history_dict[10])\n",
    "        #     # accuracy\n",
    "        #     plt.plot(x_axis, history.history[history_dict[5]], color = 'b', lw = 2, label = history_dict[5])\n",
    "        #     # validataion_accuracy\n",
    "        #     plt.plot(x_axis, history.history[history_dict[15]], color = 'k', lw = 2, label = history_dict[15])\n",
    "        #     plt.title(model_input._name)\n",
    "        #     plt.legend()\n",
    "        #     plt.xlabel('Epochs')\n",
    "        #     # plt.ylabel(str(dic[i]))\n",
    "        #     plt.show()\n",
    "\n",
    "        cost_time = round((time() - start_time), 4)\n",
    "        print(\"*\" * 40, \"End {} with {} seconds\".format(model_input._name, cost_time), \"*\" * 40, end='\\n\\n')\n",
    "        return history, model\n"
   ]
  },
  {
   "cell_type": "code",
   "execution_count": 41,
   "metadata": {},
   "outputs": [],
   "source": [
    "# X_train.shape"
   ]
  },
  {
   "cell_type": "code",
   "execution_count": 42,
   "metadata": {},
   "outputs": [],
   "source": [
    "# history, model_2 = compile_fit(nn_model(), X_train, X_test, X_val, y_train, y_test, y_val, loss_fun = 'binary_crossentropy', epoch_num=50)\n",
    "# history, model_2 = compile_fit(nn_model(word_index), X_train, X_val, y_train, y_val, loss_fun = 'mse', epoch_num=10)"
   ]
  },
  {
   "cell_type": "code",
   "execution_count": null,
   "metadata": {},
   "outputs": [],
   "source": []
  },
  {
   "cell_type": "code",
   "execution_count": null,
   "metadata": {},
   "outputs": [],
   "source": []
  },
  {
   "cell_type": "markdown",
   "metadata": {},
   "source": [
    "<br>"
   ]
  },
  {
   "cell_type": "markdown",
   "metadata": {},
   "source": [
    "<br>"
   ]
  },
  {
   "cell_type": "markdown",
   "metadata": {},
   "source": [
    "### <a id=\"6.9 Save Model and History\">6.9 Save Model and History</a>\n",
    "<a href=\"#2.Table of Contents\">Click this Link back to Top</a>"
   ]
  },
  {
   "cell_type": "code",
   "execution_count": 43,
   "metadata": {},
   "outputs": [],
   "source": [
    "import pandas as pd\n",
    "\n",
    "class SaveModelHistory(object):\n",
    "    \"\"\"\n",
    "\n",
    "    \"\"\"\n",
    "    def __init__(self):\n",
    "        \"\"\"\n",
    "\n",
    "        \"\"\"\n",
    "        self.history_classify_df = pd.DataFrame(\n",
    "            columns=['loss', 'accuracy', 'val_loss', 'val_accuracy', 'epoch', 'model_features'])\n",
    "\n",
    "    def write_csv(self, history, model, str_input):\n",
    "        \"\"\"\n",
    "        Use this function to restore history into csv. Next time, we can easily recall and plot former result\n",
    "        \"\"\"\n",
    "        # save each indudial model in h5 format\n",
    "        #     model.save(\"06_models/11_Normal_Glove_NN_20_model.h5\")\n",
    "        # transform current history dictionary into dataframe\n",
    "        history_df = pd.DataFrame(history.history)\n",
    "        # add epoch column\n",
    "        history_df['epoch'] = history.epoch\n",
    "        # add ['model_features'] to help identify each model parameter choose\n",
    "        history_df['model_features'] = str(model.name) + \"_\" + str_input\n",
    "        #     print(history_df)\n",
    "        # append into old dataframe\n",
    "        #     print(history_classify_df)\n",
    "        #     history_classify_df.append(history_df)\n",
    "        #     print(history_classify_df)\n",
    "        frames = [history_df, self.history_classify_df]\n",
    "        # concatanate old and new dataframe into one\n",
    "        self.history_classify_df = pd.concat(frames)\n",
    "        # write in tof file\n",
    "        self.history_classify_df.to_csv(\"05_files/10_hisotry_classify_df.csv\")\n",
    "\n",
    "        return self.history_classify_df\n",
    "\n",
    "\n",
    "\n"
   ]
  },
  {
   "cell_type": "markdown",
   "metadata": {},
   "source": [
    "<br>"
   ]
  },
  {
   "cell_type": "markdown",
   "metadata": {},
   "source": [
    "<br>"
   ]
  },
  {
   "cell_type": "markdown",
   "metadata": {},
   "source": [
    "<br>"
   ]
  },
  {
   "cell_type": "markdown",
   "metadata": {},
   "source": [
    "# <a id=\"7.Main Function\">7.Main Function</a>\n",
    "<a href=\"#2.Table of Contents\">Click this Link back to Top</a>"
   ]
  },
  {
   "cell_type": "code",
   "execution_count": 53,
   "metadata": {},
   "outputs": [
    {
     "name": "stdout",
     "output_type": "stream",
     "text": [
      "************************************************** Start import data **************************************************\n",
      "**************************************** End import_data() with 0.2084 second ****************************************\n",
      "\n",
      "************************************************** Start import data **************************************************\n",
      "**************************************** End import_data() with 0.021 second ****************************************\n",
      "\n",
      "************************************************** Start Clean data **************************************************\n",
      "**************************************** End clean_data() with 3.3818 second ****************************************\n",
      "\n",
      "************************************************** Start Clean data **************************************************\n",
      "**************************************** End clean_data() with 3.134 second ****************************************\n",
      "\n",
      "************************************************** Start Clean data **************************************************\n",
      "**************************************** End clean_data() with 0.2449 second ****************************************\n",
      "\n",
      "************************************************** Start Clean data **************************************************\n",
      "**************************************** End clean_data() with 0.2623 second ****************************************\n",
      "\n",
      "we got unique 72070 words\n",
      "we have 13332 words appear more than 5 times\n",
      "************************************************** Start glove_vect() process **************************************************\n"
     ]
    },
    {
     "name": "stderr",
     "output_type": "stream",
     "text": [
      "100%|████████████████████████████████████████████████████████████████████████| 72070/72070 [00:00<00:00, 752141.69it/s]\n"
     ]
    },
    {
     "name": "stdout",
     "output_type": "stream",
     "text": [
      "**************************************** End glove_vect() with 7.6288 seconds ****************************************\n",
      "\n",
      "************************************************** Start Glove embedding process **************************************************\n",
      "**************************************** End Glove embedding() with 2.5855 seconds ****************************************\n",
      "\n",
      "************************************************** Start Glove embedding process **************************************************\n",
      "**************************************** End Glove embedding() with 2.2158 seconds ****************************************\n",
      "\n",
      "************************************************** Start Random embedding process **************************************************\n",
      "**************************************** End Random embedding() with 1.138 seconds ****************************************\n",
      "\n",
      "************************************************** Start Random embedding process **************************************************\n",
      "**************************************** End Random embedding() with 2.2032 seconds ****************************************\n",
      "\n",
      "************************************************** Start train_test_split **************************************************\n",
      "**************************************** End embedding() with 0.006 seconds ****************************************\n",
      "\n",
      "Model: \"nn_model\"\n",
      "_________________________________________________________________\n",
      "Layer (type)                 Output Shape              Param #   \n",
      "=================================================================\n",
      "input_5 (InputLayer)         [(None, 400)]             0         \n",
      "_________________________________________________________________\n",
      "embedding_layer_2 (Embedding (None, 400, 50)           3603550   \n",
      "_________________________________________________________________\n",
      "global_average_pooling1d (Gl (None, 50)                0         \n",
      "_________________________________________________________________\n",
      "dense (Dense)                (None, 32)                1632      \n",
      "_________________________________________________________________\n",
      "dense_1 (Dense)              (None, 10)                330       \n",
      "=================================================================\n",
      "Total params: 3,605,512\n",
      "Trainable params: 1,962\n",
      "Non-trainable params: 3,603,550\n",
      "_________________________________________________________________\n",
      "**************************************** Start nn_model Processing ****************************************\n",
      "Train on 4863 samples, validate on 1216 samples\n",
      "Epoch 1/3\n",
      "4863/4863 [==============================] - 2s 371us/sample - loss: 1.4204 - accuracy: 0.4567 - val_loss: 1.2727 - val_accuracy: 0.4984\n",
      "Epoch 2/3\n",
      "4863/4863 [==============================] - 1s 194us/sample - loss: 1.3165 - accuracy: 0.4629 - val_loss: 1.2608 - val_accuracy: 0.4926\n",
      "Epoch 3/3\n",
      "4863/4863 [==============================] - 1s 182us/sample - loss: 1.3082 - accuracy: 0.4584 - val_loss: 1.2626 - val_accuracy: 0.4901\n",
      "**************************************** End nn_model with 3.7325 seconds ****************************************\n",
      "\n"
     ]
    },
    {
     "ename": "NameError",
     "evalue": "name 'feature_col_q' is not defined",
     "output_type": "error",
     "traceback": [
      "\u001b[1;31m---------------------------------------------------------------------------\u001b[0m",
      "\u001b[1;31mNameError\u001b[0m                                 Traceback (most recent call last)",
      "\u001b[1;32m<ipython-input-53-86e354d95553>\u001b[0m in \u001b[0;36m<module>\u001b[1;34m\u001b[0m\n\u001b[0;32m    148\u001b[0m      \u001b[0my_q_label_df\u001b[0m\u001b[1;33m,\u001b[0m \u001b[0my_a_label_df\u001b[0m\u001b[1;33m,\u001b[0m \u001b[0mfeature_col_q\u001b[0m\u001b[1;33m,\u001b[0m \u001b[0mfeature_col_a\u001b[0m\u001b[1;33m,\u001b[0m \u001b[0my_q_array_0\u001b[0m\u001b[1;33m,\u001b[0m\u001b[1;33m\u001b[0m\u001b[1;33m\u001b[0m\u001b[0m\n\u001b[0;32m    149\u001b[0m      \u001b[0mX_q_train\u001b[0m\u001b[1;33m,\u001b[0m \u001b[0mX_q_val\u001b[0m\u001b[1;33m,\u001b[0m \u001b[0my_q_train\u001b[0m\u001b[1;33m,\u001b[0m \u001b[0my_q_val\u001b[0m\u001b[1;33m,\u001b[0m\u001b[1;33m\u001b[0m\u001b[1;33m\u001b[0m\u001b[0m\n\u001b[1;32m--> 150\u001b[1;33m      history_a, model_a)= main()\n\u001b[0m\u001b[0;32m    151\u001b[0m     \u001b[0mprint\u001b[0m\u001b[1;33m(\u001b[0m\u001b[1;34m\"over\"\u001b[0m\u001b[1;33m)\u001b[0m\u001b[1;33m\u001b[0m\u001b[1;33m\u001b[0m\u001b[0m\n",
      "\u001b[1;32m<ipython-input-53-86e354d95553>\u001b[0m in \u001b[0;36mmain\u001b[1;34m()\u001b[0m\n\u001b[0;32m    134\u001b[0m             \u001b[0mq_glove_output_array\u001b[0m\u001b[1;33m,\u001b[0m \u001b[0mq_glove_embedding_layer\u001b[0m\u001b[1;33m,\u001b[0m \u001b[0ma_glove_output_array\u001b[0m\u001b[1;33m,\u001b[0m \u001b[0ma_glove_embedding_layer\u001b[0m\u001b[1;33m,\u001b[0m\u001b[1;33m\u001b[0m\u001b[1;33m\u001b[0m\u001b[0m\n\u001b[0;32m    135\u001b[0m             \u001b[0mq_random_output\u001b[0m\u001b[1;33m,\u001b[0m \u001b[0mq_random_embedding_layer\u001b[0m\u001b[1;33m,\u001b[0m \u001b[0ma_random_output\u001b[0m\u001b[1;33m,\u001b[0m \u001b[0ma_random_embedding_layer\u001b[0m\u001b[1;33m,\u001b[0m\u001b[1;33m\u001b[0m\u001b[1;33m\u001b[0m\u001b[0m\n\u001b[1;32m--> 136\u001b[1;33m             \u001b[0my_q_label_df\u001b[0m\u001b[1;33m,\u001b[0m \u001b[0my_a_label_df\u001b[0m\u001b[1;33m,\u001b[0m \u001b[0mfeature_col_q\u001b[0m\u001b[1;33m,\u001b[0m \u001b[0mfeature_col_a\u001b[0m\u001b[1;33m,\u001b[0m \u001b[0my_q_array_0\u001b[0m\u001b[1;33m,\u001b[0m\u001b[1;33m\u001b[0m\u001b[1;33m\u001b[0m\u001b[0m\n\u001b[0m\u001b[0;32m    137\u001b[0m             \u001b[0mX_q_train\u001b[0m\u001b[1;33m,\u001b[0m \u001b[0mX_q_val\u001b[0m\u001b[1;33m,\u001b[0m \u001b[0my_q_train\u001b[0m\u001b[1;33m,\u001b[0m \u001b[0my_q_val\u001b[0m\u001b[1;33m,\u001b[0m\u001b[1;33m\u001b[0m\u001b[1;33m\u001b[0m\u001b[0m\n\u001b[0;32m    138\u001b[0m             history_a, model_a)\n",
      "\u001b[1;31mNameError\u001b[0m: name 'feature_col_q' is not defined"
     ]
    }
   ],
   "source": [
    "# from class_31_hyperparameters import HyperParameters\n",
    "# from class_32_import_data import ImportData\n",
    "# from class_33_clean_data import CleanData\n",
    "# from class_34_tokenize import TokenizeData\n",
    "# from class_35_label import LabelProcess\n",
    "# from class_36_eda import EdaData\n",
    "# from class_45_embeding import MultiEmbedding\n",
    "# from class_43_glove import GloveVect\n",
    "# from class_45_splist import SplitData\n",
    "# from class_61_neuralnetwork import BuildModels\n",
    "# from class_68_complitfit import CompileFit\n",
    "# from class_69_save import SaveModelHistory\n",
    "\n",
    "def main():\n",
    "    \"\"\"\n",
    "    We use this function to call process one by one.\n",
    "    \"\"\"\n",
    "\n",
    "    # ***********************import******************************\n",
    "    import_class = ImportData()\n",
    "    # df_train_raw = (6079,41) raw data, which just read from csv file without changing anything\n",
    "    # X_q_train_df = (6079, 6) only contain ['qa_id', 'question_title', 'question_body', 'category', 'host','question']\n",
    "    # X_a_train_df = (6079,4) contain ['qa_id', 'answer', 'category', 'host']\n",
    "    # y_q_train_df = (6079,21) numerical labels\n",
    "    # y_a_train_df = (6079,9) numerical labels\n",
    "    (df_train_raw, X_q_train_df, X_a_train_df, y_q_train_df,\n",
    "     y_a_train_df) = import_class.import_data(\"./03_data/02_train.csv\")\n",
    "    df_test_raw, X_q_test_df, X_a_test_df, y_q_test_df, y_a_test_df = import_class.import_data(\"./03_data/03_test.csv\")\n",
    "\n",
    "    # ***********************clean******************************\n",
    "    clean_class = CleanData()\n",
    "    q_train_cleaned_df = clean_class.clean_process(X_q_train_df, column_1='question')\n",
    "    a_train_cleaned_df = clean_class.clean_process(X_a_train_df, column_1='answer')\n",
    "    q_test_cleaned_df = clean_class.clean_process(X_q_test_df, column_1 ='question')\n",
    "    a_test_cleaned_df = clean_class.clean_process(X_a_test_df, column_1='answer')\n",
    "\n",
    "    # ***********************tokenize*****************************\n",
    "    token_class = TokenizeData()\n",
    "    # do not use '|', insteand we can use comma to next line and bracket to state they are together\n",
    "    # input q_train_cleaned_dataframe and output still dataframe with new colunm[padded]\n",
    "    # question_train part_padded  = (6078, 400)\n",
    "    (q_train_padded, q_train_cleaned_df, a_train_padded, word_index,\n",
    "     q_index_word) = token_class.tokenize_plot(q_train_cleaned_df, a_train_cleaned_df)\n",
    "\n",
    "\n",
    "    # ********Using manuually categorical*************\n",
    "    #***********From this part, we only consider classification version************\n",
    "    # y_q_train_df\n",
    "    label_class = LabelProcess(y_q_train_df, y_a_train_df)\n",
    "    y_q_label_df, y_a_label_df, q_feature_col, a_feature_col = label_class.num_label()\n",
    "    # for now, we only use 0 - 6 to represt each arrary, next step, this will be function into class LabelProcess\n",
    "    y_q_array_0 = label_class.manual_calssify(y_q_label_df.iloc[:, 0])\n",
    "    y_q_array_1 = label_class.manual_calssify(y_q_label_df.iloc[:, 1])\n",
    "    y_q_array_2 = label_class.manual_calssify(y_q_label_df.iloc[:, 2])\n",
    "    y_q_array_3 = label_class.manual_calssify(y_q_label_df.iloc[:, 3])\n",
    "    y_q_array_4 = label_class.manual_calssify(y_q_label_df.iloc[:, 4])\n",
    "    y_q_array_5 = label_class.manual_calssify(y_q_label_df.iloc[:, 5])\n",
    "    # y_a_label_df = label_class.manual_calssify(y_answer_df.iloc[:, 0])\n",
    "\n",
    "    #     q_test_padded, q_test_cleaned_df = eda_class.tokenize_plot(q_test_cleaned_df, a_test_cleaned_df)\n",
    "    #     # get question label\n",
    "    #     y_label_test_df = eda_class.label_feature(y_q_test_df)\n",
    "\n",
    "    # ********************EDA******************************\n",
    "    # eda_class = EdaData()\n",
    "    # eda_class.question_plot(y_question_df)\n",
    "    # eda_class.answer_plot(y_answer_df)\n",
    "    # q_train_padded have shape (6079,100) can be used in fewer embedding\n",
    "\n",
    "    # #*********************Embedding****THIS PART NOT WORKING*******************\n",
    "\n",
    "    glove_class = GloveVect()\n",
    "    embedding_matrix, embedding_index = glove_class.glove_vect(word_index)\n",
    "\n",
    "    embed_class = MultiEmbedding()\n",
    "    #first transform q_train_padded\n",
    "    q_glove_output_array, q_glove_embedding_layer= embed_class.glove_embedding(word_index,\n",
    "                                                                               q_train_padded,\n",
    "                                                                               embedding_matrix,\n",
    "                                                                               part = 'q')\n",
    "    a_glove_output_array, a_glove_embedding_layer= embed_class.glove_embedding(word_index,\n",
    "                                                                               a_train_padded,\n",
    "                                                                               embedding_matrix,\n",
    "                                                                               part = 'a')\n",
    "    q_random_output, q_random_embedding_layer = embed_class.random_embedding(word_index,\n",
    "                                                                             q_train_padded,\n",
    "                                                                              part = 'q')\n",
    "    a_random_output, a_random_embedding_layer = embed_class.random_embedding(word_index,\n",
    "                                                                             a_train_padded,\n",
    "                                                                             part = 'a')\n",
    "\n",
    "\n",
    "    split_class = SplitData()\n",
    "    # question part and answer part will be seperately split\n",
    "    # If postfix is number, this label is one-hot for calssify\n",
    "    X_q_train, X_q_val, y_q_train, y_q_val = split_class.split_data(q_train_padded, y_q_array_0, test_size=0.2)\n",
    "    # if postfix is df, this label is numerical\n",
    "    # X_a_train, X_a_val, y_a_train, y_a_val = split_class.split_data(a_train_padded, y_a_label_df, test_size=0.2)\n",
    "\n",
    "\n",
    "    #******************Models*******************************\n",
    "\n",
    "    model_class = BuildModels()\n",
    "    compile_class = CompileFit()\n",
    "    save_class = SaveModelHistory()\n",
    "    #***************Random Embedding Normal Neural Network****************\n",
    "    # nn_model = model_class.nn_model(word_index, part = 'q')\n",
    "    #     history, model_2 = compile_fit(nn_model(word_index), X_q_train, X_q_val, y_q_train, y_q_val, loss_fun = 'mse', epoch_num=1)\n",
    "    # history_a, model_a = compile_class.compile_fit(nn_model,\n",
    "    #                                  X_q_train, X_q_val, y_q_train, y_q_val, loss_fun='categorical_crossentropy',\n",
    "    #                                  epoch_num=3)\n",
    "\n",
    "    # ***************Pretrain Glove Normal Neural Network****************(each model should have its own model part)\n",
    "    pretrain_nn = model_class.nn_model(word_index, part='q', type='classify', pretrain_matrix=embedding_matrix)\n",
    "    history_a, model_a = compile_class.compile_fit(pretrain_nn,\n",
    "                                                   X_q_train, X_q_val, y_q_train, y_q_val,\n",
    "                                                   loss_fun='categorical_crossentropy',\n",
    "                                                   epoch_num=3)\n",
    "    history_classify_df = save_class.write_csv(history_a, model_a, str_input='Question_Glove_NN_20')\n",
    "\n",
    "\n",
    "\n",
    "\n",
    "    #************************test part*****************************\n",
    "    # 1.tokenize\n",
    "    # 2.fit model\n",
    "    # 3.get plot and analysis result\n",
    "    #*************************END***************************\n",
    "\n",
    "\n",
    "\n",
    "    return (df_train_raw, X_q_train_df, X_a_train_df, y_q_train_df, y_a_train_df, a_train_cleaned_df,\n",
    "            q_train_padded, q_train_cleaned_df, a_train_padded, word_index, q_index_word,\n",
    "            q_glove_output_array, q_glove_embedding_layer, a_glove_output_array, a_glove_embedding_layer,\n",
    "            q_random_output, q_random_embedding_layer, a_random_output, a_random_embedding_layer,\n",
    "            y_q_label_df, y_a_label_df, feature_col_q, feature_col_a, y_q_array_0,\n",
    "            X_q_train, X_q_val, y_q_train, y_q_val,\n",
    "            history_a, model_a)\n",
    "\n",
    "\n",
    "if __name__==\"__main__\":\n",
    "    \"\"\"\n",
    "    \"\"\"\n",
    "    (df_train_raw, X_q_train_df, X_a_train_df, y_q_train_df, y_a_train_df, a_train_cleaned_df,\n",
    "     q_train_padded, q_train_cleaned_df, a_train_padded, word_index, q_index_word,\n",
    "     q_glove_output_array, q_glove_embedding_layer, a_glove_output_array, a_glove_embedding_layer,\n",
    "     q_random_output, q_random_embedding_layer, a_random_output, a_random_embedding_layer,\n",
    "     y_q_label_df, y_a_label_df, feature_col_q, feature_col_a, y_q_array_0,\n",
    "     X_q_train, X_q_val, y_q_train, y_q_val,\n",
    "     history_a, model_a)= main()\n",
    "    print(\"over\")\n"
   ]
  },
  {
   "cell_type": "code",
   "execution_count": null,
   "metadata": {},
   "outputs": [],
   "source": [
    "# import copy\n",
    "# history_01 = history_a.history.copy()\n",
    "# # model_01 = model_a.copy()"
   ]
  },
  {
   "cell_type": "code",
   "execution_count": null,
   "metadata": {},
   "outputs": [],
   "source": []
  },
  {
   "cell_type": "code",
   "execution_count": null,
   "metadata": {},
   "outputs": [],
   "source": []
  },
  {
   "cell_type": "code",
   "execution_count": 48,
   "metadata": {},
   "outputs": [
    {
     "data": {
      "text/plain": [
       "1607206081.5237489"
      ]
     },
     "execution_count": 48,
     "metadata": {},
     "output_type": "execute_result"
    }
   ],
   "source": [
    "i"
   ]
  },
  {
   "cell_type": "code",
   "execution_count": null,
   "metadata": {},
   "outputs": [],
   "source": []
  },
  {
   "cell_type": "code",
   "execution_count": null,
   "metadata": {},
   "outputs": [],
   "source": []
  },
  {
   "cell_type": "code",
   "execution_count": null,
   "metadata": {},
   "outputs": [],
   "source": [
    "# if __name__==\"__main__\":\n",
    "#     (X_question_df, X_answer_df, y_question_df, y_answer_df, \n",
    "#             question_padded, question_cleaned_df, answer_cleaned_df, y_q_label_df, y_a_label_df,\n",
    "#             X_a_train, X_a_val, y_a_train, y_a_val, history_a,model_a, word_index) = main()"
   ]
  },
  {
   "cell_type": "code",
   "execution_count": null,
   "metadata": {},
   "outputs": [],
   "source": []
  },
  {
   "cell_type": "code",
   "execution_count": null,
   "metadata": {},
   "outputs": [],
   "source": []
  },
  {
   "cell_type": "code",
   "execution_count": null,
   "metadata": {},
   "outputs": [],
   "source": [
    "def plot_history_acc(history):\n",
    "    hist = pd.DataFrame(history.history)\n",
    "    hist['epoch'] = history.epoch\n",
    "    \n",
    "    # ****loss plost *******************\n",
    "    plt.figure()\n",
    "    plt.xlabel('Epoch')\n",
    "    plt.ylabel('loss')\n",
    "    plt.plot(hist['epoch'], hist['loss'],\n",
    "           label='Train loss')\n",
    "    plt.plot(hist['epoch'], hist['val_loss'],\n",
    "           label = 'Val loss')\n",
    "    plt.ylim([0,3])\n",
    "    plt.legend()\n",
    "    plt.savefig('04_images/12_NN_Classify_10Epochs_loss.png', dpi=150, format='png')\n",
    "\n",
    "    #****************accuracy plot******************\n",
    "    plt.figure()\n",
    "    plt.xlabel('Epoch')\n",
    "    plt.ylabel('Accuracy')\n",
    "    plt.plot(hist['epoch'], hist['accuracy'],\n",
    "           label='Train Accuracy')\n",
    "    plt.plot(hist['epoch'], hist['val_accuracy'],\n",
    "           label = 'Val Accuracy')\n",
    "    plt.ylim([0,1])\n",
    "    plt.legend()\n",
    "    plt.savefig('04_images/13_NN_Classify_10Epochs_acc.png', dpi=150, format='png')\n",
    "    plt.show()\n",
    "    return hist\n",
    "\n",
    "hist = plot_history_acc(history_a)"
   ]
  },
  {
   "cell_type": "code",
   "execution_count": null,
   "metadata": {},
   "outputs": [],
   "source": []
  },
  {
   "cell_type": "code",
   "execution_count": null,
   "metadata": {},
   "outputs": [],
   "source": [
    "def plot_history_acc(history):\n",
    "    hist = pd.DataFrame(history.history)\n",
    "    hist['epoch'] = history.epoch\n",
    "    \n",
    "    # ****loss plost *******************\n",
    "    plt.figure()\n",
    "    plt.xlabel('Epoch')\n",
    "    plt.ylabel('loss')\n",
    "    plt.plot(hist['epoch'], hist['loss'],\n",
    "           label='Train loss')\n",
    "    plt.plot(hist['epoch'], hist['val_loss'],\n",
    "           label = 'Val loss')\n",
    "    plt.ylim([0,3])\n",
    "    plt.legend()\n",
    "    plt.savefig('04_images/12_NN_Classify_10Epochs_loss.png', dpi=150, format='png')\n",
    "\n",
    "    #****************accuracy plot******************\n",
    "    plt.figure()\n",
    "    plt.xlabel('Epoch')\n",
    "    plt.ylabel('Accuracy')\n",
    "    plt.plot(hist['epoch'], hist['accuracy'],\n",
    "           label='Train Accuracy')\n",
    "    plt.plot(hist['epoch'], hist['val_accuracy'],\n",
    "           label = 'Val Accuracy')\n",
    "    plt.ylim([0,1])\n",
    "    plt.legend()\n",
    "    plt.savefig('04_images/13_NN_Classify_10Epochs_acc.png', dpi=150, format='png')\n",
    "    plt.show()\n",
    "    return hist\n",
    "\n",
    "hist = plot_history_acc(history_a)"
   ]
  },
  {
   "cell_type": "code",
   "execution_count": null,
   "metadata": {},
   "outputs": [],
   "source": []
  },
  {
   "cell_type": "code",
   "execution_count": null,
   "metadata": {},
   "outputs": [],
   "source": [
    "hist.columns"
   ]
  },
  {
   "cell_type": "code",
   "execution_count": null,
   "metadata": {},
   "outputs": [],
   "source": []
  },
  {
   "cell_type": "code",
   "execution_count": null,
   "metadata": {},
   "outputs": [],
   "source": []
  },
  {
   "cell_type": "code",
   "execution_count": null,
   "metadata": {},
   "outputs": [],
   "source": []
  },
  {
   "cell_type": "code",
   "execution_count": null,
   "metadata": {},
   "outputs": [],
   "source": [
    "def plot_history(history):\n",
    "  hist = pd.DataFrame(history.history)\n",
    "  hist['epoch'] = history.epoch\n",
    "\n",
    "  plt.figure()\n",
    "  plt.xlabel('Epoch')\n",
    "  plt.ylabel('Mean Abs Error [MPG]')\n",
    "  plt.plot(hist['epoch'], hist['mae'],\n",
    "           label='Train Error')\n",
    "  plt.plot(hist['epoch'], hist['val_mae'],\n",
    "           label = 'Val Error')\n",
    "  plt.ylim([0,0.5])\n",
    "  plt.legend()\n",
    "\n",
    "  plt.figure()\n",
    "  plt.xlabel('Epoch')\n",
    "  plt.ylabel('Mean Square Error [$MPG^2$]')\n",
    "  plt.plot(hist['epoch'], hist['mse'],\n",
    "           label='Train Error')\n",
    "  plt.plot(hist['epoch'], hist['val_mse'],\n",
    "           label = 'Val Error')\n",
    "  plt.ylim([0,0.2])\n",
    "  plt.legend()\n",
    "  plt.show()\n",
    "\n",
    "\n",
    "plot_history(history_a)"
   ]
  },
  {
   "cell_type": "code",
   "execution_count": null,
   "metadata": {},
   "outputs": [],
   "source": [
    "def plot_history(history):\n",
    "  hist = pd.DataFrame(history.history)\n",
    "  hist['epoch'] = history.epoch\n",
    "\n",
    "  plt.figure()\n",
    "  plt.xlabel('Epoch')\n",
    "  plt.ylabel('Mean Abs Error [MPG]')\n",
    "  plt.plot(hist['epoch'], hist['mae'],\n",
    "           label='Train Error')\n",
    "  plt.plot(hist['epoch'], hist['val_mae'],\n",
    "           label = 'Val Error')\n",
    "  plt.ylim([0,0.5])\n",
    "  plt.legend()\n",
    "\n",
    "  plt.figure()\n",
    "  plt.xlabel('Epoch')\n",
    "  plt.ylabel('Mean Square Error [$MPG^2$]')\n",
    "  plt.plot(hist['epoch'], hist['mse'],\n",
    "           label='Train Error')\n",
    "  plt.plot(hist['epoch'], hist['val_mse'],\n",
    "           label = 'Val Error')\n",
    "  plt.ylim([0,0.2])\n",
    "  plt.legend()\n",
    "  plt.show()\n",
    "\n",
    "\n",
    "plot_history(history_a)"
   ]
  },
  {
   "cell_type": "code",
   "execution_count": null,
   "metadata": {},
   "outputs": [],
   "source": []
  },
  {
   "cell_type": "code",
   "execution_count": null,
   "metadata": {},
   "outputs": [],
   "source": [
    "loss, mae, mse = model_2.evaluate(X_val, y_val, verbose=1)\n",
    "\n",
    "print(\"Testing set Mean Abs Error: {:5.2f}\".format(mae))"
   ]
  },
  {
   "cell_type": "code",
   "execution_count": null,
   "metadata": {},
   "outputs": [],
   "source": []
  },
  {
   "cell_type": "code",
   "execution_count": null,
   "metadata": {},
   "outputs": [],
   "source": [
    "test_2 = model_2.predict(X_val)"
   ]
  },
  {
   "cell_type": "code",
   "execution_count": null,
   "metadata": {},
   "outputs": [],
   "source": [
    "len(test_2[:,0])"
   ]
  },
  {
   "cell_type": "code",
   "execution_count": null,
   "metadata": {},
   "outputs": [],
   "source": [
    "len(y_val.iloc[:,0])"
   ]
  },
  {
   "cell_type": "code",
   "execution_count": null,
   "metadata": {},
   "outputs": [],
   "source": [
    "type(list(y_val.iloc[:,0]))"
   ]
  },
  {
   "cell_type": "code",
   "execution_count": null,
   "metadata": {},
   "outputs": [],
   "source": [
    "len(test_predictions[:,1])"
   ]
  },
  {
   "cell_type": "code",
   "execution_count": null,
   "metadata": {},
   "outputs": [],
   "source": [
    "y_val.head(5)"
   ]
  },
  {
   "cell_type": "code",
   "execution_count": null,
   "metadata": {},
   "outputs": [],
   "source": [
    "test_predictions[:,0][0:10]"
   ]
  },
  {
   "cell_type": "code",
   "execution_count": null,
   "metadata": {},
   "outputs": [],
   "source": [
    "y_val.iloc[:,1].values.flatten()"
   ]
  },
  {
   "cell_type": "code",
   "execution_count": null,
   "metadata": {},
   "outputs": [],
   "source": [
    "test_predictions"
   ]
  },
  {
   "cell_type": "code",
   "execution_count": null,
   "metadata": {},
   "outputs": [],
   "source": [
    "COL_NUM = 1"
   ]
  },
  {
   "cell_type": "code",
   "execution_count": null,
   "metadata": {},
   "outputs": [],
   "source": [
    "x_axis = np.array(y_val.iloc[:,COL_NUM])\n",
    "x_axis"
   ]
  },
  {
   "cell_type": "code",
   "execution_count": null,
   "metadata": {},
   "outputs": [],
   "source": [
    "plt.scatter(x=x_axis, y = test_predictions[:,COL_NUM])\n",
    "plt.show"
   ]
  },
  {
   "cell_type": "code",
   "execution_count": null,
   "metadata": {},
   "outputs": [],
   "source": [
    "# from the plot we can see\n",
    "plt.scatter(y_answer_df.index, y_answer_df.iloc[:,3])\n",
    "plt.\n",
    "plt.show()"
   ]
  },
  {
   "cell_type": "code",
   "execution_count": null,
   "metadata": {},
   "outputs": [],
   "source": [
    "test_predictions[:,1][0:10]"
   ]
  },
  {
   "cell_type": "code",
   "execution_count": null,
   "metadata": {},
   "outputs": [],
   "source": [
    "y_val.iloc[:,1].values.flatten()[0:10]"
   ]
  },
  {
   "cell_type": "code",
   "execution_count": null,
   "metadata": {},
   "outputs": [],
   "source": [
    "X_answer_df"
   ]
  },
  {
   "cell_type": "code",
   "execution_count": null,
   "metadata": {},
   "outputs": [],
   "source": [
    "y_val\n"
   ]
  },
  {
   "cell_type": "code",
   "execution_count": null,
   "metadata": {},
   "outputs": [],
   "source": [
    "y_a_val.head(2)"
   ]
  },
  {
   "cell_type": "code",
   "execution_count": null,
   "metadata": {},
   "outputs": [],
   "source": [
    "test_predictions = model_3.predict(X_a_val)\n",
    "test_predictions"
   ]
  },
  {
   "cell_type": "code",
   "execution_count": null,
   "metadata": {},
   "outputs": [],
   "source": [
    "# LIST_INFO = [1,3,4, 5,7]\n",
    "test_predictions = model_3.predict(X_a_val)\n",
    "\n",
    "plt.scatter(x = y_a_val, y = test_predictions)\n",
    "plt.xlabel('True Values')\n",
    "plt.ylabel('Predictions')\n",
    "plt.axis('equal')\n",
    "plt.axis('square')\n",
    "plt.xlim([0,plt.xlim()[1]])\n",
    "plt.ylim([0,plt.ylim()[1]])\n",
    "_ = plt.plot([-100, 100], [-100, 100])"
   ]
  },
  {
   "cell_type": "code",
   "execution_count": null,
   "metadata": {},
   "outputs": [],
   "source": [
    "def get_scores(y_true, y_pred):\n",
    "    \"\"\"\n",
    "    Argus:\n",
    "    -----\n",
    "    y_true:np.ndarray\n",
    "    y_true:np.ndarray\n",
    "    \"\"\"\n",
    "    # if they have same size, nothing happen,\n",
    "    assert y_true.shape == y_pred.shape\n",
    "#     assert y_true.shape[1] == num_targets\n",
    "    # create empty dictionary\n",
    "    scores = {}\n",
    "    for target_name, i in \n",
    "    \n",
    "    \n",
    "    \n",
    "    "
   ]
  },
  {
   "cell_type": "code",
   "execution_count": null,
   "metadata": {},
   "outputs": [],
   "source": [
    "scores_2 = stats.spearmanr(y_a_val, test_predictions)\n",
    "scores_2"
   ]
  },
  {
   "cell_type": "code",
   "execution_count": null,
   "metadata": {},
   "outputs": [],
   "source": [
    "get_scores(y_a_val, test_predictions)"
   ]
  },
  {
   "cell_type": "code",
   "execution_count": null,
   "metadata": {},
   "outputs": [],
   "source": []
  },
  {
   "cell_type": "code",
   "execution_count": null,
   "metadata": {},
   "outputs": [],
   "source": []
  },
  {
   "cell_type": "code",
   "execution_count": null,
   "metadata": {},
   "outputs": [],
   "source": []
  },
  {
   "cell_type": "code",
   "execution_count": null,
   "metadata": {},
   "outputs": [],
   "source": [
    "# LIST_INFO = [1,3,4, 5,7]\n",
    "test_predictions = model_3.predict(X_a_val)\n",
    "\n",
    "plt.scatter(x = y_val.iloc[:,1].values.flatten(), y = test_predictions[:,1].flatten()[LIST_INFO])\n",
    "plt.xlabel('True Values')\n",
    "plt.ylabel('Predictions')\n",
    "plt.axis('equal')\n",
    "plt.axis('square')\n",
    "plt.xlim([0,plt.xlim()[1]])\n",
    "plt.ylim([0,plt.ylim()[1]])\n",
    "_ = plt.plot([-100, 100], [-100, 100])\n"
   ]
  },
  {
   "cell_type": "code",
   "execution_count": null,
   "metadata": {},
   "outputs": [],
   "source": [
    "error = test_predictions[:,2].flatten() - y_val.iloc[:,2].values.flatten()\n",
    "plt.hist(error, bins = 25)\n",
    "plt.xlabel(\"Prediction Error [MPG]\")\n",
    "_ = plt.ylabel(\"Count\")"
   ]
  },
  {
   "cell_type": "code",
   "execution_count": null,
   "metadata": {},
   "outputs": [],
   "source": []
  },
  {
   "cell_type": "code",
   "execution_count": null,
   "metadata": {},
   "outputs": [],
   "source": [
    "X_train"
   ]
  },
  {
   "cell_type": "code",
   "execution_count": null,
   "metadata": {},
   "outputs": [],
   "source": [
    "y_label_df.loc[:,0]"
   ]
  },
  {
   "cell_type": "code",
   "execution_count": null,
   "metadata": {},
   "outputs": [],
   "source": []
  },
  {
   "cell_type": "code",
   "execution_count": null,
   "metadata": {},
   "outputs": [],
   "source": []
  },
  {
   "cell_type": "code",
   "execution_count": null,
   "metadata": {},
   "outputs": [],
   "source": []
  },
  {
   "cell_type": "code",
   "execution_count": null,
   "metadata": {},
   "outputs": [],
   "source": []
  },
  {
   "cell_type": "code",
   "execution_count": null,
   "metadata": {},
   "outputs": [],
   "source": []
  },
  {
   "cell_type": "code",
   "execution_count": null,
   "metadata": {},
   "outputs": [],
   "source": []
  },
  {
   "cell_type": "markdown",
   "metadata": {},
   "source": [
    "# <a id=\"10.Test Code\">10.Test Code</a>\n",
    "<a href=\"#1.Summary\">Click this Link back to Top</a>"
   ]
  },
  {
   "cell_type": "code",
   "execution_count": null,
   "metadata": {},
   "outputs": [],
   "source": [
    "label_class = LabelProcess(y_q_train_df, y_a_train_df)\n",
    "y_q_label_df, y_a_label_df, feature_col_q, feature_col_a = label_class.num_label()"
   ]
  },
  {
   "cell_type": "code",
   "execution_count": null,
   "metadata": {},
   "outputs": [],
   "source": [
    "y_q_classify_df = pd.DataFrame(columns=[feature_col_q])"
   ]
  },
  {
   "cell_type": "code",
   "execution_count": null,
   "metadata": {},
   "outputs": [],
   "source": [
    "y_q_classify_df = y_q_label_df.apply(lambda x :label_class.manual_calssify(x))"
   ]
  },
  {
   "cell_type": "code",
   "execution_count": null,
   "metadata": {},
   "outputs": [],
   "source": [
    "type(y_q_table_0)"
   ]
  },
  {
   "cell_type": "code",
   "execution_count": null,
   "metadata": {},
   "outputs": [],
   "source": [
    "y_q_table_0.shape"
   ]
  },
  {
   "cell_type": "code",
   "execution_count": null,
   "metadata": {},
   "outputs": [],
   "source": [
    "for idx, i in enumerate(feature_col_q):\n",
    "#     eval(\"y_test_\"+str(i) ) == 1\n",
    "#     print(isinstance('dsafdsaf', int))\n",
    "    exec(\"%s = %d\" % ((\"y_test_\"+str(i)), idx))"
   ]
  },
  {
   "cell_type": "code",
   "execution_count": null,
   "metadata": {},
   "outputs": [],
   "source": [
    "y_test_question_asker_intent_understanding"
   ]
  },
  {
   "cell_type": "code",
   "execution_count": null,
   "metadata": {},
   "outputs": [],
   "source": [
    "def test_fun(adb):\n",
    "    print(str(adb))"
   ]
  },
  {
   "cell_type": "code",
   "execution_count": null,
   "metadata": {},
   "outputs": [],
   "source": [
    "test_fun('cccc')"
   ]
  },
  {
   "cell_type": "code",
   "execution_count": null,
   "metadata": {},
   "outputs": [],
   "source": [
    "model_class = BuildModels()\n",
    "compile_class = CompileFit()\n",
    "pretrain_nn = model_class.nn_model(q_word_index, part='q', pretrain_matrix=embedding_matrix)"
   ]
  },
  {
   "cell_type": "code",
   "execution_count": null,
   "metadata": {},
   "outputs": [],
   "source": [
    "pretrain_nn.from_config"
   ]
  },
  {
   "cell_type": "code",
   "execution_count": null,
   "metadata": {},
   "outputs": [],
   "source": [
    "dir(pretrain_nn)"
   ]
  },
  {
   "cell_type": "code",
   "execution_count": null,
   "metadata": {},
   "outputs": [],
   "source": [
    "type(pretrain_nn)"
   ]
  },
  {
   "cell_type": "code",
   "execution_count": null,
   "metadata": {},
   "outputs": [],
   "source": []
  },
  {
   "cell_type": "code",
   "execution_count": null,
   "metadata": {},
   "outputs": [],
   "source": []
  },
  {
   "cell_type": "code",
   "execution_count": null,
   "metadata": {},
   "outputs": [],
   "source": []
  },
  {
   "cell_type": "code",
   "execution_count": null,
   "metadata": {},
   "outputs": [],
   "source": []
  },
  {
   "cell_type": "code",
   "execution_count": null,
   "metadata": {},
   "outputs": [],
   "source": []
  },
  {
   "cell_type": "code",
   "execution_count": null,
   "metadata": {},
   "outputs": [],
   "source": []
  },
  {
   "cell_type": "code",
   "execution_count": null,
   "metadata": {},
   "outputs": [],
   "source": [
    "# model_class = BuildModels()\n",
    "# nn_model = model_class.test_model(X_a_train, y_a_train, embedding_layer,part = 'a')\n",
    "\n",
    "# compile_class = CompileFit()\n",
    "# #     history, model_2 = compile_fit(nn_model(word_index), X_q_train, X_q_val, y_q_train, y_q_val, loss_fun = 'mse', epoch_num=1)\n",
    "# history_a, model_a = compile_class.compile_fit(nn_model,\n",
    "#                                      X_a_train, X_a_val, y_a_train, y_a_val, loss_fun='categorical_crossentropy',\n",
    "#                                      epoch_num=3)"
   ]
  },
  {
   "cell_type": "markdown",
   "metadata": {},
   "source": [
    "1.using question_user_page as benchmark, split quetsion_title or question_body into train_test, we believe different website have different type questions, so we can make evaluate and predict model\n",
    "\n",
    "2.Using unsupervise learning to cluster question into differnt type, culster is depending on data preprocessing granularity. smaller grandularity, more spase cluster\n",
    "\n",
    "3.After i embedding these sentence, you can use KNN SVM to do unsuperviese cluster\n",
    "\n",
    "4.Using categore to cluster by CNN(n-gram / Glove / miniGPT）\n",
    "\n",
    "5.Generage numerical value by former data and compart to anser_well_written\n",
    "\n",
    "6.extract the root url like photo.stackchange.com to try to classfiy it with some argothrim, same question is to catgory column\n",
    "\n",
    "7.If the result is not good enough, try to use url to grab more data to analysis\n",
    "\n",
    "8.The data for this competition includes questions and answers from various StackExchange properties. Your task is to predict target values of 30 labels for each question-answer pair.\n",
    "\n",
    "The list of 30 target labels are the same as the column names in the sample_submission.csv file. Target labels with the prefix question_ relate to the question_title and/or question_body features in the data. Target labels with the prefix answer_ relate to the answer feature.\n",
    "\n",
    "9.for each dataframe maybe we need add category, and that will imporove performance\n",
    "\n",
    "10.Stopword is meaningful for answer sequence, and so as punctuation. Try to only eliminate useless punctuatinon like '\\`' but remain '?'and '!'\n",
    "11.embedding is random initial word vector, but we can use Glove to import pretrain to impove performance\n",
    "\n",
    "12.evalution part try to use BLEU score "
   ]
  },
  {
   "cell_type": "markdown",
   "metadata": {},
   "source": [
    "- https://www.tensorflow.org/tutorials/text/word_embeddings?hl=zh-cn\n",
    "- https://towardsdatascience.com/nlp-building-a-question-answering-model-ed0529a68c54"
   ]
  }
 ],
 "metadata": {
  "kernelspec": {
   "display_name": "Python 3",
   "language": "python",
   "name": "python3"
  },
  "language_info": {
   "codemirror_mode": {
    "name": "ipython",
    "version": 3
   },
   "file_extension": ".py",
   "mimetype": "text/x-python",
   "name": "python",
   "nbconvert_exporter": "python",
   "pygments_lexer": "ipython3",
   "version": "3.7.9"
  }
 },
 "nbformat": 4,
 "nbformat_minor": 4
}
